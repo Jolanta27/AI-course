{
  "cells": [
    {
      "cell_type": "markdown",
      "metadata": {
        "id": "view-in-github",
        "colab_type": "text"
      },
      "source": [
        "<a href=\"https://colab.research.google.com/github/Jolanta27/AI-course/blob/master/Time_to_Practice__Keras_with_partial_solutions.ipynb\" target=\"_parent\"><img src=\"https://colab.research.google.com/assets/colab-badge.svg\" alt=\"Open In Colab\"/></a>"
      ]
    },
    {
      "cell_type": "markdown",
      "id": "6dJqdR9YtWDy",
      "metadata": {
        "id": "6dJqdR9YtWDy"
      },
      "source": [
        "<img height=\"180px\" src=\"https://drive.google.com/uc?export=view&id=141XOz6N4nk8Ru1sAl7vOsAToCLrSFCAX\" alt=\"SDA logo\" align=\"left\" hspace=\"30px\" vspace=\"50px\"/>\n",
        "\n",
        "# Welcome to your next notebook with SDA!\n",
        "\n",
        "During the classes we will mostly use [Google Colaboratory](https://colab.research.google.com/?hl=en) which is a free Jupyter notebook environment that requires no setup and runs entirely in the cloud.\n",
        "\n",
        "However, for bigger projects, especially involving Deep Learning and/or big data reading, it might be a better choice to setup Jupyter Notebook or Jupyter Lab on your computer. Also, it is worth noticing that there is a great number of useful extensions (see [nbextensions](https://jupyter-contrib-nbextensions.readthedocs.io/en/latest/index.html) and [jupyter-labextension](https://jupyterlab.readthedocs.io/en/stable/user/extensions.html)) not available for Colab users."
      ]
    },
    {
      "cell_type": "markdown",
      "id": "b6IzX2TZuwic",
      "metadata": {
        "id": "b6IzX2TZuwic"
      },
      "source": [
        "<img src=\"https://drive.google.com/uc?export=view&id=1UO2urRciECzoKE_vHy4RMGfFbkOWOGlW\" alt=\"SDA logo\" align=\"left\" width=\"100px\" hspace=\"10px\" vspace=\"10px\"/>\n",
        "\n",
        "# Time to Practice: Keras\n",
        "## Introduction to Artificial Neural Networks\n",
        "\n",
        "**<font color='#4472c4'>PRACTICAL WORKSHOPS WITH SCREEN SHARING BY YOUR MENTOR</font>**\n",
        "\n",
        "Start by reading through the presentation slides.\n",
        "\n",
        "<br>\n",
        "\n",
        "Upon completion of the **<font color='#4472c4'>Time to Practice: Keras</font>** course, you will gain familiarity with key elements of Neural Networks and get to undestand how such models work and learn. The easiest way to implement simple Neural Network architectures, ie. Multi-Layer Perceptrons, is to use model embedded in sklearn and apply them to the Supervised Learning problems, such as classification and regression tasks. These models are essential for the further understanding and implementing Deep Learning algorithms."
      ]
    },
    {
      "cell_type": "markdown",
      "source": [
        "<img src=\"https://drive.google.com/uc?export=view&id=141XOz6N4nk8Ru1sAl7vOsAToCLrSFCAX\" alt=\"SDA logo\" width=\"150\" align='right'/>\n",
        "<br>\n",
        "\n",
        "## Datasets description & loading\n",
        "\n",
        "In the following notebook, we will analyze data and build models based on the following two datasets."
      ],
      "metadata": {
        "id": "2HsEy2ZO_RL1"
      },
      "id": "2HsEy2ZO_RL1"
    },
    {
      "cell_type": "code",
      "source": [
        "import numpy as np\n",
        "import pandas as pd\n",
        "\n",
        "from matplotlib import pyplot as plt\n",
        "import seaborn as sns\n",
        "\n",
        "from sklearn.datasets import fetch_california_housing, load_wine\n",
        "from sklearn.metrics import r2_score, classification_report, f1_score\n",
        "from sklearn.model_selection import train_test_split\n",
        "# multi-layer perceptron in sklearn\n",
        "# from sklearn.neural_network import MLPRegressor, MLPClassifier\n",
        "from sklearn.preprocessing import StandardScaler"
      ],
      "metadata": {
        "id": "iDLxNhun8Kwf"
      },
      "id": "iDLxNhun8Kwf",
      "execution_count": null,
      "outputs": []
    },
    {
      "cell_type": "code",
      "source": [
        "# from warnings import simplefilter\n",
        "# from sklearn.exceptions import ConvergenceWarning\n",
        "\n",
        "# simplefilter(\"ignore\", category=ConvergenceWarning)"
      ],
      "metadata": {
        "id": "OwVhizN1Dbny"
      },
      "id": "OwVhizN1Dbny",
      "execution_count": null,
      "outputs": []
    },
    {
      "cell_type": "markdown",
      "source": [
        "<img src=\"https://drive.google.com/uc?export=view&id=141XOz6N4nk8Ru1sAl7vOsAToCLrSFCAX\" alt=\"SDA logo\" width=\"150\" align='right'/>\n",
        "<br>\n",
        "\n",
        "\n",
        "## Linear Regression with Keras API\n",
        "\n",
        "In this exercise, we'll discover how a simple neural network, without hidden layers, essentially performs the same function as linear regression, mapping input features to continuous output values. Utilizing Keras, a leading deep learning library, we will construct this basic neural network model.\n",
        "\n",
        "The task involves working with synthetic training and testing data generated to simulate a linear relationship with added noise for realism.\n",
        "\n",
        "By guiding you through the process of creating a neural network in Keras, configuring its layers, and training it on this synthesized dataset, you will gain hands-on experience in training models for regression tasks.\n"
      ],
      "metadata": {
        "id": "-8w_71gQ94Hx"
      },
      "id": "-8w_71gQ94Hx"
    },
    {
      "cell_type": "code",
      "source": [
        "x_train = np.linspace(0, 50, 51)\n",
        "\n",
        "y_train = np.linspace(5, 155, 51)\n",
        "y_train = y_train + np.random.normal(0, 10, 51)"
      ],
      "metadata": {
        "id": "VZvcpMJumPHc"
      },
      "id": "VZvcpMJumPHc",
      "execution_count": null,
      "outputs": []
    },
    {
      "cell_type": "code",
      "source": [
        "plt.scatter(x_train, y_train)\n",
        "\n",
        "plt.xlabel('x_train')\n",
        "plt.ylabel('y_train')\n",
        "plt.show()"
      ],
      "metadata": {
        "colab": {
          "base_uri": "https://localhost:8080/",
          "height": 450
        },
        "id": "9OIW65i9ma_m",
        "outputId": "b1ef5227-baab-45bb-806d-e60a63717ed1"
      },
      "id": "9OIW65i9ma_m",
      "execution_count": null,
      "outputs": [
        {
          "output_type": "display_data",
          "data": {
            "text/plain": [
              "<Figure size 640x480 with 1 Axes>"
            ],
            "image/png": "[encoded data removed]"
          },
          "metadata": {}
        }
      ]
    },
    {
      "cell_type": "code",
      "source": [
        "import tensorflow as tf\n",
        "# or\n",
        "# from tensorflow.keras.layers import Dense"
      ],
      "metadata": {
        "id": "VE6Pb5Pumg20"
      },
      "id": "VE6Pb5Pumg20",
      "execution_count": null,
      "outputs": []
    },
    {
      "cell_type": "code",
      "source": [
        "# input layer and output layer defined concurrently\n",
        "layer0 = tf.keras.layers.Dense(\n",
        "    units=1,  # output shape\n",
        "    input_shape=[1]  # input shape\n",
        ")\n",
        "\n",
        "# sequential API to connect layers one by one\n",
        "model = tf.keras.Sequential([layer0])\n",
        "\n",
        "# compilation to define loss function and optimizer\n",
        "model.compile(\n",
        "    loss='mean_squared_error',\n",
        "    optimizer=tf.keras.optimizers.Adam(0.1)\n",
        ")\n",
        "\n",
        "# you can save training results for later vizualization\n",
        "history = model.fit(\n",
        "    x_train,  # training set, features\n",
        "    y_train,  # training set, target variable\n",
        "    epochs=100,\n",
        "    verbose=False  # whether to display output to the console or not\n",
        ")"
      ],
      "metadata": {
        "id": "-7Z-udx4mcaa"
      },
      "id": "-7Z-udx4mcaa",
      "execution_count": null,
      "outputs": []
    },
    {
      "cell_type": "code",
      "source": [
        "plt.plot(history.history['loss'])\n",
        "\n",
        "plt.xlabel('Epoch Number')\n",
        "plt.ylabel(\"Loss Magnitude\")\n",
        "plt.show()"
      ],
      "metadata": {
        "colab": {
          "base_uri": "https://localhost:8080/",
          "height": 452
        },
        "id": "ToHmb8zboKzX",
        "outputId": "a058fd70-ae66-4b66-82fb-7f39290c3c31"
      },
      "id": "ToHmb8zboKzX",
      "execution_count": null,
      "outputs": [
        {
          "output_type": "display_data",
          "data": {
            "text/plain": [
              "<Figure size 640x480 with 1 Axes>"
            ],
            "image/png": "[encoded data removed]"
          },
          "metadata": {}
        }
      ]
    },
    {
      "cell_type": "code",
      "source": [
        "weights_with_bias = layer0.get_weights()\n",
        "\n",
        "weight = weights_with_bias[0][0]\n",
        "bias = weights_with_bias[1]\n",
        "print('weight: {} bias: {}'.format(weight, bias))\n",
        "\n",
        "y_learned = x_train * weight + bias\n",
        "\n",
        "plt.scatter(x_train, y_train, label='Training Data')\n",
        "plt.plot(x_train, y_learned, color='orangered', label='Fit Line')\n",
        "\n",
        "plt.legend()\n",
        "plt.show()"
      ],
      "metadata": {
        "colab": {
          "base_uri": "https://localhost:8080/",
          "height": 452
        },
        "id": "nFn5LuVzoIDu",
        "outputId": "5e72b83f-fd3a-4564-8053-f545fdf8792d"
      },
      "id": "nFn5LuVzoIDu",
      "execution_count": null,
      "outputs": [
        {
          "output_type": "stream",
          "name": "stdout",
          "text": [
            "weight: [3.1156783] bias: [3.5368001]\n"
          ]
        },
        {
          "output_type": "display_data",
          "data": {
            "text/plain": [
              "<Figure size 640x480 with 1 Axes>"
            ],
            "image/png": "[encoded data removed]"
          },
          "metadata": {}
        }
      ]
    },
    {
      "cell_type": "markdown",
      "source": [
        "<img src=\"https://drive.google.com/uc?export=view&id=141XOz6N4nk8Ru1sAl7vOsAToCLrSFCAX\" alt=\"SDA logo\" width=\"150\" align='right'/>\n",
        "<br>\n",
        "\n",
        "\n",
        "## Nonlinear Regression with Keras API\n",
        "\n",
        "This time, let's delve deeper and train the same model for non-linear relationships, which are commonplace in real-world data. Next, we will add some hidden layers and activation functions to see how they affect the results.\n",
        "\n",
        "The task utilizes a synthetic dataset generated through a specific quadratic function $y=x^2 + 2x - 5$ with noise added to simulate real-world data irregularities.\n",
        "\n",
        "Your input data, x, spans from -2 to 2, including 201 points cast into floating-point precision, ensuring it's suitable for neural network processing. The corresponding target values, y, are calculated using the predefined quadratic function, with Gaussian noise added for an extra challenge in model training.\n",
        "\n",
        "Your mission is to construct and train a neural network using TensorFlow and Keras API that learns to fit this noisy quadratic data. This exercise will walk you through defining your neural network architecture, selecting the appropriate loss function and optimizer, and training your model to learn the underlying pattern of the data."
      ],
      "metadata": {
        "id": "r_nl-jxDpe3j"
      },
      "id": "r_nl-jxDpe3j"
    },
    {
      "cell_type": "code",
      "source": [
        "x = tf.linspace(-2, 2, 201)\n",
        "x = tf.cast(x, tf.float32)\n",
        "\n",
        "def f(x):\n",
        "    y = x**2 + 2*x - 5\n",
        "    return y\n",
        "\n",
        "y = f(x) + tf.random.normal(shape=[201])\n",
        "\n",
        "plt.plot(x.numpy(), y.numpy(), '.', label='Data')\n",
        "plt.plot(x, f(x),  label='Ground truth')\n",
        "plt.legend()\n",
        "plt.show()"
      ],
      "metadata": {
        "colab": {
          "base_uri": "https://localhost:8080/",
          "height": 430
        },
        "id": "CG6F8SL3oTQH",
        "outputId": "c80369f6-e4b1-4ef5-fc92-1fe98f95bbfa"
      },
      "id": "CG6F8SL3oTQH",
      "execution_count": null,
      "outputs": [
        {
          "output_type": "display_data",
          "data": {
            "text/plain": [
              "<Figure size 640x480 with 1 Axes>"
            ],
            "image/png": "[encoded data removed]"
          },
          "metadata": {}
        }
      ]
    },
    {
      "cell_type": "code",
      "source": [
        "# input layer and output layer defined concurrently\n",
        "layer0 = tf.keras.layers.Dense(\n",
        "    units=1,  # output shape\n",
        "    input_shape=[1]  # input shape\n",
        ")\n",
        "\n",
        "# sequential API to connect layers one by one\n",
        "model = tf.keras.Sequential([layer0])\n",
        "\n",
        "# compilation to define loss function and optimizer\n",
        "model.compile(\n",
        "    loss='mean_squared_error',\n",
        "    optimizer=tf.keras.optimizers.Adam(0.1)\n",
        ")\n",
        "\n",
        "# you can save training results for later vizualization\n",
        "history = model.fit(\n",
        "    x,  # training set, features\n",
        "    y,  # training set, target variable\n",
        "    epochs=100,\n",
        "    verbose=False  # whether to display output to the console or not\n",
        ")"
      ],
      "metadata": {
        "id": "PN8KtSuxpa4Y"
      },
      "id": "PN8KtSuxpa4Y",
      "execution_count": null,
      "outputs": []
    },
    {
      "cell_type": "code",
      "source": [
        "plt.plot(history.history['loss'])\n",
        "\n",
        "plt.xlabel('Epoch Number')\n",
        "plt.ylabel(\"Loss Magnitude\")\n",
        "plt.show()"
      ],
      "metadata": {
        "colab": {
          "base_uri": "https://localhost:8080/",
          "height": 449
        },
        "id": "0E6LxLpeqf_q",
        "outputId": "c33919e7-a4ec-4967-cc44-65d5b204e89b"
      },
      "id": "0E6LxLpeqf_q",
      "execution_count": null,
      "outputs": [
        {
          "output_type": "display_data",
          "data": {
            "text/plain": [
              "<Figure size 640x480 with 1 Axes>"
            ],
            "image/png": "[encoded data removed]"
          },
          "metadata": {}
        }
      ]
    },
    {
      "cell_type": "code",
      "source": [
        "weights_with_bias = layer0.get_weights()\n",
        "\n",
        "weight = weights_with_bias[0][0]\n",
        "bias = weights_with_bias[1]\n",
        "print('weight: {} bias: {}'.format(weight, bias))\n",
        "\n",
        "y_learned = x * weight + bias\n",
        "\n",
        "plt.scatter(x, y, label='Training Data')\n",
        "plt.plot(x, y_learned, color='orangered', label='Fit Line')\n",
        "\n",
        "plt.legend()\n",
        "plt.show()"
      ],
      "metadata": {
        "colab": {
          "base_uri": "https://localhost:8080/",
          "height": 448
        },
        "id": "MVn3dg2wqiah",
        "outputId": "e57bbbad-42e6-4576-da65-76f17c7b5cf4"
      },
      "id": "MVn3dg2wqiah",
      "execution_count": null,
      "outputs": [
        {
          "output_type": "stream",
          "name": "stdout",
          "text": [
            "weight: [1.9742577] bias: [-3.75141]\n"
          ]
        },
        {
          "output_type": "display_data",
          "data": {
            "text/plain": [
              "<Figure size 640x480 with 1 Axes>"
            ],
            "image/png": "[encoded data removed]"
          },
          "metadata": {}
        }
      ]
    },
    {
      "cell_type": "code",
      "source": [
        "# input layer and output layer defined concurrently\n",
        "layer0 = tf.keras.layers.Dense(\n",
        "    units=1,  # output shape\n",
        "    input_shape=[1],  # input shape\n",
        "    activation=\"relu\"\n",
        ")\n",
        "\n",
        "# sequential API to connect layers one by one\n",
        "model = tf.keras.Sequential([layer0])\n",
        "\n",
        "# compilation to define loss function and optimizer\n",
        "model.compile(\n",
        "    loss='mean_squared_error',\n",
        "    optimizer=tf.keras.optimizers.Adam(0.1)\n",
        ")\n",
        "\n",
        "# you can save training results for later vizualization\n",
        "history = model.fit(\n",
        "    x,  # training set, features\n",
        "    y,  # training set, target variable\n",
        "    epochs=100,\n",
        "    verbose=False  # whether to display output to the console or not\n",
        ")"
      ],
      "metadata": {
        "id": "X_5w1XmMqp6t"
      },
      "id": "X_5w1XmMqp6t",
      "execution_count": null,
      "outputs": []
    },
    {
      "cell_type": "code",
      "source": [
        "plt.plot(history.history['loss'])\n",
        "\n",
        "plt.xlabel('Epoch Number')\n",
        "plt.ylabel(\"Loss Magnitude\")\n",
        "plt.show()"
      ],
      "metadata": {
        "colab": {
          "base_uri": "https://localhost:8080/",
          "height": 449
        },
        "id": "7S13C9FNskAr",
        "outputId": "c537a5bb-ad3b-490e-b34e-04a5aa955f3d"
      },
      "id": "7S13C9FNskAr",
      "execution_count": null,
      "outputs": [
        {
          "output_type": "display_data",
          "data": {
            "text/plain": [
              "<Figure size 640x480 with 1 Axes>"
            ],
            "image/png": "[encoded data removed]"
          },
          "metadata": {}
        }
      ]
    },
    {
      "cell_type": "code",
      "source": [
        "weights_with_bias = layer0.get_weights()\n",
        "\n",
        "weight = weights_with_bias[0][0]\n",
        "bias = weights_with_bias[1]\n",
        "print('weight: {} bias: {}'.format(weight, bias))\n",
        "\n",
        "y_learned = x * weight + bias\n",
        "\n",
        "plt.scatter(x, y, label='Training Data')\n",
        "plt.plot(x[x < 0], np.ones(len(x[x < 0])) * bias, color='orangered', label='Fit Line (below 0)')\n",
        "plt.plot(x[x >= 0], y_learned[x >= 0], color='orangered', label='Fit Line (above 0)')\n",
        "\n",
        "plt.legend()\n",
        "plt.show()"
      ],
      "metadata": {
        "colab": {
          "base_uri": "https://localhost:8080/",
          "height": 448
        },
        "id": "tEw_qrdMrjr_",
        "outputId": "a1babb54-0122-4015-9f5b-66d55273120d"
      },
      "id": "tEw_qrdMrjr_",
      "execution_count": null,
      "outputs": [
        {
          "output_type": "stream",
          "name": "stdout",
          "text": [
            "weight: [0.16714288] bias: [-1.3547939]\n"
          ]
        },
        {
          "output_type": "display_data",
          "data": {
            "text/plain": [
              "<Figure size 640x480 with 1 Axes>"
            ],
            "image/png": "[encoded data removed]"
          },
          "metadata": {}
        }
      ]
    },
    {
      "cell_type": "code",
      "source": [
        "# input layer and hidden layer defined concurrently\n",
        "layer0 = tf.keras.layers.Dense(\n",
        "    units=10,  # number of neurons in hidden layer\n",
        "    input_shape=[1],  # input shape\n",
        "    activation=\"relu\"\n",
        ")\n",
        "\n",
        "layer1 = tf.keras.layers.Dense(\n",
        "    units=1,  # output shape\n",
        "    # input_shape=[1],  # define only in the first layers.Dense\n",
        "    # activation=\"relu\"  # here, output can be negative do not use relu!\n",
        ")\n",
        "\n",
        "# sequential API to connect layers one by one\n",
        "model = tf.keras.Sequential([layer0, layer1])\n",
        "\n",
        "# compilation to define loss function and optimizer\n",
        "model.compile(\n",
        "    loss='mean_squared_error',\n",
        "    optimizer=tf.keras.optimizers.Adam(0.1)\n",
        ")\n",
        "\n",
        "# you can save training results for later vizualization\n",
        "history = model.fit(\n",
        "    x,  # training set, features\n",
        "    y,  # training set, target variable\n",
        "    epochs=100,\n",
        "    verbose=False  # whether to display output to the console or not\n",
        ")"
      ],
      "metadata": {
        "id": "ueESKrtisfoH"
      },
      "id": "ueESKrtisfoH",
      "execution_count": null,
      "outputs": []
    },
    {
      "cell_type": "code",
      "source": [
        "plt.plot(history.history['loss'])\n",
        "\n",
        "plt.xlabel('Epoch Number')\n",
        "plt.ylabel(\"Loss Magnitude\")\n",
        "plt.show()"
      ],
      "metadata": {
        "colab": {
          "base_uri": "https://localhost:8080/",
          "height": 449
        },
        "id": "4T8aff0Ds_of",
        "outputId": "e07cb49a-5055-48d8-83fa-c1c49ef6273f"
      },
      "id": "4T8aff0Ds_of",
      "execution_count": null,
      "outputs": [
        {
          "output_type": "display_data",
          "data": {
            "text/plain": [
              "<Figure size 640x480 with 1 Axes>"
            ],
            "image/png": "[encoded data removed]"
          },
          "metadata": {}
        }
      ]
    },
    {
      "cell_type": "code",
      "source": [
        "weights_with_bias = layer0.get_weights()\n",
        "\n",
        "weight = weights_with_bias[0][0]\n",
        "bias = weights_with_bias[1]\n",
        "print('weight: {} bias: {}'.format(weight, bias))\n",
        "\n",
        "y_learned = model.predict(x)\n",
        "\n",
        "plt.scatter(x, y, label='Training Data')\n",
        "plt.plot(x, y_learned, color='orangered', label='Fit Line')\n",
        "\n",
        "plt.legend()\n",
        "plt.show()"
      ],
      "metadata": {
        "colab": {
          "base_uri": "https://localhost:8080/",
          "height": 501
        },
        "id": "Oi_-7CqttB53",
        "outputId": "adce7e2d-cb48-48f8-f91b-3e8a080a3d8f"
      },
      "id": "Oi_-7CqttB53",
      "execution_count": null,
      "outputs": [
        {
          "output_type": "stream",
          "name": "stdout",
          "text": [
            "weight: [ 0.05289957  1.578857   -0.24605529  0.13641903 -0.12289652  0.05106531\n",
            "  0.05505887  2.0231304  -0.2260001   0.1516539 ] bias: [ 1.627149   -1.9411988  -0.8305959  -0.9089852  -0.77516484  0.1826672\n",
            "  1.4826175   0.44250903 -0.81508183  1.5629772 ]\n",
            "7/7 [==============================] - 0s 2ms/step\n"
          ]
        },
        {
          "output_type": "display_data",
          "data": {
            "text/plain": [
              "<Figure size 640x480 with 1 Axes>"
            ],
            "image/png": "[encoded data removed]"
          },
          "metadata": {}
        }
      ]
    },
    {
      "cell_type": "markdown",
      "source": [
        "#### **<font color='#306998'>TASK </font><font color='#ffd33b'>FOR YOU</font>** Custom Nonlinear Regression Model\n",
        "\n",
        "After you've built and trained your initial neural network model to approximate the given quadratic function with added noise, it's time to dive deeper into the architecture of neural networks and understand how different configurations can impact the model's performance. This exploration will enable you to grasp the significance of network design choices and their effects on learning complex patterns from data.\n",
        "\n",
        "1. Experimenting with Neuron Count\n",
        "  \n",
        "  Vary the number of neurons in the hidden layer of your model. Begin with a relatively small number of neurons and gradually increase it. Observe how the accuracy of your model's predictions changes with each configuration.\n",
        "1. Adding More Hidden Layers\n",
        "\n",
        "  Start by introducing additional hidden layers to your neural network. Experiment with different numbers of layers and observe the changes in model performance.\n",
        "\n",
        "1. Playing with Activation Functions\n",
        "\n",
        "  Experiment with different activation functions (e.g., `ReLU`, `sigmoid`, `tanh`) in the hidden layers of your neural network. Note how each affects the model's ability to converge and its final performance.\n",
        "\n",
        "Reflect on the following questions:\n",
        "* How does the number of neurons in a layer correlate with the model's accuracy and training time?\n",
        "* What effects do additional hidden layers have on the model's ability to learn from the data?\n",
        "* How do different activation functions impact the model's learning process and its success in approximating the quadratic function?"
      ],
      "metadata": {
        "id": "5o6PVrqkolyT"
      },
      "id": "5o6PVrqkolyT"
    },
    {
      "cell_type": "code",
      "source": [],
      "metadata": {
        "id": "auSfcEfWpX7Z"
      },
      "id": "auSfcEfWpX7Z",
      "execution_count": null,
      "outputs": []
    },
    {
      "cell_type": "markdown",
      "source": [
        "## Regression (California housing dataset)\n",
        "\n",
        "This dataset was obtained from the StatLib repository, see http://lib.stat.cmu.edu/datasets/.\n",
        "\n",
        "The target variable is the **<font color='#4472c4'>median house value for California</font>** districts.\n",
        "\n",
        "This dataset was derived from the 1990 U.S. census, using one row per census block group. A block group is the smallest geographical unit for which the U.S. Census Bureau publishes sample data (a block group typically has a population of 600 to 3,000 people).\n",
        "\n",
        "Features:\n",
        "* `MedInc` median income in block\n",
        "* `HouseAge` median house age in block\n",
        "* `AveRooms` average number of rooms\n",
        "* `AveBedrms` average number of bedrooms\n",
        "* `Population` block population\n",
        "* `AveOccup` average house occupancy\n",
        "* `Latitude` house block latitude\n",
        "* `Longitude` house block longitude"
      ],
      "metadata": {
        "id": "PGV_yD2T_JLQ"
      },
      "id": "PGV_yD2T_JLQ"
    },
    {
      "cell_type": "code",
      "source": [
        "def get_housing_data():\n",
        "    california_housing = fetch_california_housing()\n",
        "\n",
        "    X = pd.DataFrame(\n",
        "        california_housing.data,\n",
        "        columns=california_housing.feature_names\n",
        "    )\n",
        "    y = california_housing.target\n",
        "\n",
        "    X_train, X_test, y_train, y_test = train_test_split(\n",
        "        X, y, random_state=42, test_size=0.2\n",
        "    )\n",
        "\n",
        "    scaler = StandardScaler()\n",
        "    X_train_scaled = scaler.fit_transform(X_train)\n",
        "    X_test_scaled = scaler.transform(X_test)\n",
        "\n",
        "    X_train_scaled = pd.DataFrame(X_train_scaled, columns=X_train.columns)\n",
        "    X_test_scaled = pd.DataFrame(X_test_scaled, columns=X_test.columns)\n",
        "\n",
        "    return X_train_scaled, X_test_scaled, y_train, y_test"
      ],
      "metadata": {
        "id": "8VhnpTcx-mku"
      },
      "execution_count": null,
      "outputs": [],
      "id": "8VhnpTcx-mku"
    },
    {
      "cell_type": "code",
      "source": [
        "X_train_scaled, X_test_scaled, y_train, y_test = get_housing_data()"
      ],
      "metadata": {
        "id": "6RirQab9Buye"
      },
      "execution_count": null,
      "outputs": [],
      "id": "6RirQab9Buye"
    },
    {
      "cell_type": "code",
      "source": [
        "X_train_scaled"
      ],
      "metadata": {
        "colab": {
          "base_uri": "https://localhost:8080/",
          "height": 424
        },
        "id": "aj5pc6hiBa7A",
        "outputId": "20866ece-5f34-4943-cb17-c81c1dda0583"
      },
      "execution_count": null,
      "outputs": [
        {
          "output_type": "execute_result",
          "data": {
            "text/plain": [
              "         MedInc  HouseAge  AveRooms  AveBedrms  Population  AveOccup  \\\n",
              "0     -0.326196  0.348490 -0.174916  -0.208365    0.768276  0.051376   \n",
              "1     -0.035843  1.618118 -0.402835  -0.128530   -0.098901 -0.117362   \n",
              "2      0.144701 -1.952710  0.088216  -0.257538   -0.449818 -0.032280   \n",
              "3     -1.017864  0.586545 -0.600015  -0.145156   -0.007434  0.077507   \n",
              "4     -0.171488  1.142008  0.349007   0.086624   -0.485877 -0.068832   \n",
              "...         ...       ...       ...        ...         ...       ...   \n",
              "16507  1.307215  0.507194  0.290620  -0.393391   -0.675847 -0.005588   \n",
              "16508 -0.436266  0.348490  0.600411   0.398898    0.287195  0.069722   \n",
              "16509 -0.496973  0.586545 -0.606759  -0.039216    0.289833  0.020306   \n",
              "16510  0.965450 -1.079841  0.402175  -0.066265    0.308303  0.007076   \n",
              "16511 -0.685448  1.856173 -0.851446  -0.087508    1.048834 -0.085354   \n",
              "\n",
              "       Latitude  Longitude  \n",
              "0     -1.372811   1.272587  \n",
              "1     -0.876696   0.709162  \n",
              "2     -0.460146  -0.447603  \n",
              "3     -1.382172   1.232698  \n",
              "4      0.532084  -0.108551  \n",
              "...         ...        ...  \n",
              "16507 -0.872016   0.808883  \n",
              "16508 -0.759688   1.073144  \n",
              "16509 -0.755007   0.599469  \n",
              "16510  0.906510  -1.185540  \n",
              "16511  0.995437  -1.414898  \n",
              "\n",
              "[16512 rows x 8 columns]"
            ],
            "text/html": [
              "\n",
              "  <div id=\"df-4063b586-3a69-43a2-81ff-0f0c4e4cfa1e\" class=\"colab-df-container\">\n",
              "    <div>\n",
              "<style scoped>\n",
              "    .dataframe tbody tr th:only-of-type {\n",
              "        vertical-align: middle;\n",
              "    }\n",
              "\n",
              "    .dataframe tbody tr th {\n",
              "        vertical-align: top;\n",
              "    }\n",
              "\n",
              "    .dataframe thead th {\n",
              "        text-align: right;\n",
              "    }\n",
              "</style>\n",
              "<table border=\"1\" class=\"dataframe\">\n",
              "  <thead>\n",
              "    <tr style=\"text-align: right;\">\n",
              "      <th></th>\n",
              "      <th>MedInc</th>\n",
              "      <th>HouseAge</th>\n",
              "      <th>AveRooms</th>\n",
              "      <th>AveBedrms</th>\n",
              "      <th>Population</th>\n",
              "      <th>AveOccup</th>\n",
              "      <th>Latitude</th>\n",
              "      <th>Longitude</th>\n",
              "    </tr>\n",
              "  </thead>\n",
              "  <tbody>\n",
              "    <tr>\n",
              "      <th>0</th>\n",
              "      <td>-0.326196</td>\n",
              "      <td>0.348490</td>\n",
              "      <td>-0.174916</td>\n",
              "      <td>-0.208365</td>\n",
              "      <td>0.768276</td>\n",
              "      <td>0.051376</td>\n",
              "      <td>-1.372811</td>\n",
              "      <td>1.272587</td>\n",
              "    </tr>\n",
              "    <tr>\n",
              "      <th>1</th>\n",
              "      <td>-0.035843</td>\n",
              "      <td>1.618118</td>\n",
              "      <td>-0.402835</td>\n",
              "      <td>-0.128530</td>\n",
              "      <td>-0.098901</td>\n",
              "      <td>-0.117362</td>\n",
              "      <td>-0.876696</td>\n",
              "      <td>0.709162</td>\n",
              "    </tr>\n",
              "    <tr>\n",
              "      <th>2</th>\n",
              "      <td>0.144701</td>\n",
              "      <td>-1.952710</td>\n",
              "      <td>0.088216</td>\n",
              "      <td>-0.257538</td>\n",
              "      <td>-0.449818</td>\n",
              "      <td>-0.032280</td>\n",
              "      <td>-0.460146</td>\n",
              "      <td>-0.447603</td>\n",
              "    </tr>\n",
              "    <tr>\n",
              "      <th>3</th>\n",
              "      <td>-1.017864</td>\n",
              "      <td>0.586545</td>\n",
              "      <td>-0.600015</td>\n",
              "      <td>-0.145156</td>\n",
              "      <td>-0.007434</td>\n",
              "      <td>0.077507</td>\n",
              "      <td>-1.382172</td>\n",
              "      <td>1.232698</td>\n",
              "    </tr>\n",
              "    <tr>\n",
              "      <th>4</th>\n",
              "      <td>-0.171488</td>\n",
              "      <td>1.142008</td>\n",
              "      <td>0.349007</td>\n",
              "      <td>0.086624</td>\n",
              "      <td>-0.485877</td>\n",
              "      <td>-0.068832</td>\n",
              "      <td>0.532084</td>\n",
              "      <td>-0.108551</td>\n",
              "    </tr>\n",
              "    <tr>\n",
              "      <th>...</th>\n",
              "      <td>...</td>\n",
              "      <td>...</td>\n",
              "      <td>...</td>\n",
              "      <td>...</td>\n",
              "      <td>...</td>\n",
              "      <td>...</td>\n",
              "      <td>...</td>\n",
              "      <td>...</td>\n",
              "    </tr>\n",
              "    <tr>\n",
              "      <th>16507</th>\n",
              "      <td>1.307215</td>\n",
              "      <td>0.507194</td>\n",
              "      <td>0.290620</td>\n",
              "      <td>-0.393391</td>\n",
              "      <td>-0.675847</td>\n",
              "      <td>-0.005588</td>\n",
              "      <td>-0.872016</td>\n",
              "      <td>0.808883</td>\n",
              "    </tr>\n",
              "    <tr>\n",
              "      <th>16508</th>\n",
              "      <td>-0.436266</td>\n",
              "      <td>0.348490</td>\n",
              "      <td>0.600411</td>\n",
              "      <td>0.398898</td>\n",
              "      <td>0.287195</td>\n",
              "      <td>0.069722</td>\n",
              "      <td>-0.759688</td>\n",
              "      <td>1.073144</td>\n",
              "    </tr>\n",
              "    <tr>\n",
              "      <th>16509</th>\n",
              "      <td>-0.496973</td>\n",
              "      <td>0.586545</td>\n",
              "      <td>-0.606759</td>\n",
              "      <td>-0.039216</td>\n",
              "      <td>0.289833</td>\n",
              "      <td>0.020306</td>\n",
              "      <td>-0.755007</td>\n",
              "      <td>0.599469</td>\n",
              "    </tr>\n",
              "    <tr>\n",
              "      <th>16510</th>\n",
              "      <td>0.965450</td>\n",
              "      <td>-1.079841</td>\n",
              "      <td>0.402175</td>\n",
              "      <td>-0.066265</td>\n",
              "      <td>0.308303</td>\n",
              "      <td>0.007076</td>\n",
              "      <td>0.906510</td>\n",
              "      <td>-1.185540</td>\n",
              "    </tr>\n",
              "    <tr>\n",
              "      <th>16511</th>\n",
              "      <td>-0.685448</td>\n",
              "      <td>1.856173</td>\n",
              "      <td>-0.851446</td>\n",
              "      <td>-0.087508</td>\n",
              "      <td>1.048834</td>\n",
              "      <td>-0.085354</td>\n",
              "      <td>0.995437</td>\n",
              "      <td>-1.414898</td>\n",
              "    </tr>\n",
              "  </tbody>\n",
              "</table>\n",
              "<p>16512 rows × 8 columns</p>\n",
              "</div>\n",
              "    <div class=\"colab-df-buttons\">\n",
              "\n",
              "  <div class=\"colab-df-container\">\n",
              "    <button class=\"colab-df-convert\" onclick=\"convertToInteractive('df-4063b586-3a69-43a2-81ff-0f0c4e4cfa1e')\"\n",
              "            title=\"Convert this dataframe to an interactive table.\"\n",
              "            style=\"display:none;\">\n",
              "\n",
              "  <svg xmlns=\"http://www.w3.org/2000/svg\" height=\"24px\" viewBox=\"0 -960 960 960\">\n",
              "    <path d=\"M120-120v-720h720v720H120Zm60-500h600v-160H180v160Zm220 220h160v-160H400v160Zm0 220h160v-160H400v160ZM180-400h160v-160H180v160Zm440 0h160v-160H620v160ZM180-180h160v-160H180v160Zm440 0h160v-160H620v160Z\"/>\n",
              "  </svg>\n",
              "    </button>\n",
              "\n",
              "  <style>\n",
              "    .colab-df-container {\n",
              "      display:flex;\n",
              "      gap: 12px;\n",
              "    }\n",
              "\n",
              "    .colab-df-convert {\n",
              "      background-color: #E8F0FE;\n",
              "      border: none;\n",
              "      border-radius: 50%;\n",
              "      cursor: pointer;\n",
              "      display: none;\n",
              "      fill: #1967D2;\n",
              "      height: 32px;\n",
              "      padding: 0 0 0 0;\n",
              "      width: 32px;\n",
              "    }\n",
              "\n",
              "    .colab-df-convert:hover {\n",
              "      background-color: #E2EBFA;\n",
              "      box-shadow: 0px 1px 2px rgba(60, 64, 67, 0.3), 0px 1px 3px 1px rgba(60, 64, 67, 0.15);\n",
              "      fill: #174EA6;\n",
              "    }\n",
              "\n",
              "    .colab-df-buttons div {\n",
              "      margin-bottom: 4px;\n",
              "    }\n",
              "\n",
              "    [theme=dark] .colab-df-convert {\n",
              "      background-color: #3B4455;\n",
              "      fill: #D2E3FC;\n",
              "    }\n",
              "\n",
              "    [theme=dark] .colab-df-convert:hover {\n",
              "      background-color: #434B5C;\n",
              "      box-shadow: 0px 1px 3px 1px rgba(0, 0, 0, 0.15);\n",
              "      filter: drop-shadow(0px 1px 2px rgba(0, 0, 0, 0.3));\n",
              "      fill: #FFFFFF;\n",
              "    }\n",
              "  </style>\n",
              "\n",
              "    <script>\n",
              "      const buttonEl =\n",
              "        document.querySelector('#df-4063b586-3a69-43a2-81ff-0f0c4e4cfa1e button.colab-df-convert');\n",
              "      buttonEl.style.display =\n",
              "        google.colab.kernel.accessAllowed ? 'block' : 'none';\n",
              "\n",
              "      async function convertToInteractive(key) {\n",
              "        const element = document.querySelector('#df-4063b586-3a69-43a2-81ff-0f0c4e4cfa1e');\n",
              "        const dataTable =\n",
              "          await google.colab.kernel.invokeFunction('convertToInteractive',\n",
              "                                                    [key], {});\n",
              "        if (!dataTable) return;\n",
              "\n",
              "        const docLinkHtml = 'Like what you see? Visit the ' +\n",
              "          '<a target=\"_blank\" href=https://colab.research.google.com/notebooks/data_table.ipynb>data table notebook</a>'\n",
              "          + ' to learn more about interactive tables.';\n",
              "        element.innerHTML = '';\n",
              "        dataTable['output_type'] = 'display_data';\n",
              "        await google.colab.output.renderOutput(dataTable, element);\n",
              "        const docLink = document.createElement('div');\n",
              "        docLink.innerHTML = docLinkHtml;\n",
              "        element.appendChild(docLink);\n",
              "      }\n",
              "    </script>\n",
              "  </div>\n",
              "\n",
              "\n",
              "<div id=\"df-272394ab-fcd1-437b-b323-7a7df9cc1e80\">\n",
              "  <button class=\"colab-df-quickchart\" onclick=\"quickchart('df-272394ab-fcd1-437b-b323-7a7df9cc1e80')\"\n",
              "            title=\"Suggest charts\"\n",
              "            style=\"display:none;\">\n",
              "\n",
              "<svg xmlns=\"http://www.w3.org/2000/svg\" height=\"24px\"viewBox=\"0 0 24 24\"\n",
              "     width=\"24px\">\n",
              "    <g>\n",
              "        <path d=\"M19 3H5c-1.1 0-2 .9-2 2v14c0 1.1.9 2 2 2h14c1.1 0 2-.9 2-2V5c0-1.1-.9-2-2-2zM9 17H7v-7h2v7zm4 0h-2V7h2v10zm4 0h-2v-4h2v4z\"/>\n",
              "    </g>\n",
              "</svg>\n",
              "  </button>\n",
              "\n",
              "<style>\n",
              "  .colab-df-quickchart {\n",
              "      --bg-color: #E8F0FE;\n",
              "      --fill-color: #1967D2;\n",
              "      --hover-bg-color: #E2EBFA;\n",
              "      --hover-fill-color: #174EA6;\n",
              "      --disabled-fill-color: #AAA;\n",
              "      --disabled-bg-color: #DDD;\n",
              "  }\n",
              "\n",
              "  [theme=dark] .colab-df-quickchart {\n",
              "      --bg-color: #3B4455;\n",
              "      --fill-color: #D2E3FC;\n",
              "      --hover-bg-color: #434B5C;\n",
              "      --hover-fill-color: #FFFFFF;\n",
              "      --disabled-bg-color: #3B4455;\n",
              "      --disabled-fill-color: #666;\n",
              "  }\n",
              "\n",
              "  .colab-df-quickchart {\n",
              "    background-color: var(--bg-color);\n",
              "    border: none;\n",
              "    border-radius: 50%;\n",
              "    cursor: pointer;\n",
              "    display: none;\n",
              "    fill: var(--fill-color);\n",
              "    height: 32px;\n",
              "    padding: 0;\n",
              "    width: 32px;\n",
              "  }\n",
              "\n",
              "  .colab-df-quickchart:hover {\n",
              "    background-color: var(--hover-bg-color);\n",
              "    box-shadow: 0 1px 2px rgba(60, 64, 67, 0.3), 0 1px 3px 1px rgba(60, 64, 67, 0.15);\n",
              "    fill: var(--button-hover-fill-color);\n",
              "  }\n",
              "\n",
              "  .colab-df-quickchart-complete:disabled,\n",
              "  .colab-df-quickchart-complete:disabled:hover {\n",
              "    background-color: var(--disabled-bg-color);\n",
              "    fill: var(--disabled-fill-color);\n",
              "    box-shadow: none;\n",
              "  }\n",
              "\n",
              "  .colab-df-spinner {\n",
              "    border: 2px solid var(--fill-color);\n",
              "    border-color: transparent;\n",
              "    border-bottom-color: var(--fill-color);\n",
              "    animation:\n",
              "      spin 1s steps(1) infinite;\n",
              "  }\n",
              "\n",
              "  @keyframes spin {\n",
              "    0% {\n",
              "      border-color: transparent;\n",
              "      border-bottom-color: var(--fill-color);\n",
              "      border-left-color: var(--fill-color);\n",
              "    }\n",
              "    20% {\n",
              "      border-color: transparent;\n",
              "      border-left-color: var(--fill-color);\n",
              "      border-top-color: var(--fill-color);\n",
              "    }\n",
              "    30% {\n",
              "      border-color: transparent;\n",
              "      border-left-color: var(--fill-color);\n",
              "      border-top-color: var(--fill-color);\n",
              "      border-right-color: var(--fill-color);\n",
              "    }\n",
              "    40% {\n",
              "      border-color: transparent;\n",
              "      border-right-color: var(--fill-color);\n",
              "      border-top-color: var(--fill-color);\n",
              "    }\n",
              "    60% {\n",
              "      border-color: transparent;\n",
              "      border-right-color: var(--fill-color);\n",
              "    }\n",
              "    80% {\n",
              "      border-color: transparent;\n",
              "      border-right-color: var(--fill-color);\n",
              "      border-bottom-color: var(--fill-color);\n",
              "    }\n",
              "    90% {\n",
              "      border-color: transparent;\n",
              "      border-bottom-color: var(--fill-color);\n",
              "    }\n",
              "  }\n",
              "</style>\n",
              "\n",
              "  <script>\n",
              "    async function quickchart(key) {\n",
              "      const quickchartButtonEl =\n",
              "        document.querySelector('#' + key + ' button');\n",
              "      quickchartButtonEl.disabled = true;  // To prevent multiple clicks.\n",
              "      quickchartButtonEl.classList.add('colab-df-spinner');\n",
              "      try {\n",
              "        const charts = await google.colab.kernel.invokeFunction(\n",
              "            'suggestCharts', [key], {});\n",
              "      } catch (error) {\n",
              "        console.error('Error during call to suggestCharts:', error);\n",
              "      }\n",
              "      quickchartButtonEl.classList.remove('colab-df-spinner');\n",
              "      quickchartButtonEl.classList.add('colab-df-quickchart-complete');\n",
              "    }\n",
              "    (() => {\n",
              "      let quickchartButtonEl =\n",
              "        document.querySelector('#df-272394ab-fcd1-437b-b323-7a7df9cc1e80 button');\n",
              "      quickchartButtonEl.style.display =\n",
              "        google.colab.kernel.accessAllowed ? 'block' : 'none';\n",
              "    })();\n",
              "  </script>\n",
              "</div>\n",
              "\n",
              "  <div id=\"id_7de24e02-dab5-4ca9-8800-3c857c893494\">\n",
              "    <style>\n",
              "      .colab-df-generate {\n",
              "        background-color: #E8F0FE;\n",
              "        border: none;\n",
              "        border-radius: 50%;\n",
              "        cursor: pointer;\n",
              "        display: none;\n",
              "        fill: #1967D2;\n",
              "        height: 32px;\n",
              "        padding: 0 0 0 0;\n",
              "        width: 32px;\n",
              "      }\n",
              "\n",
              "      .colab-df-generate:hover {\n",
              "        background-color: #E2EBFA;\n",
              "        box-shadow: 0px 1px 2px rgba(60, 64, 67, 0.3), 0px 1px 3px 1px rgba(60, 64, 67, 0.15);\n",
              "        fill: #174EA6;\n",
              "      }\n",
              "\n",
              "      [theme=dark] .colab-df-generate {\n",
              "        background-color: #3B4455;\n",
              "        fill: #D2E3FC;\n",
              "      }\n",
              "\n",
              "      [theme=dark] .colab-df-generate:hover {\n",
              "        background-color: #434B5C;\n",
              "        box-shadow: 0px 1px 3px 1px rgba(0, 0, 0, 0.15);\n",
              "        filter: drop-shadow(0px 1px 2px rgba(0, 0, 0, 0.3));\n",
              "        fill: #FFFFFF;\n",
              "      }\n",
              "    </style>\n",
              "    <button class=\"colab-df-generate\" onclick=\"generateWithVariable('X_train_scaled')\"\n",
              "            title=\"Generate code using this dataframe.\"\n",
              "            style=\"display:none;\">\n",
              "\n",
              "  <svg xmlns=\"http://www.w3.org/2000/svg\" height=\"24px\"viewBox=\"0 0 24 24\"\n",
              "       width=\"24px\">\n",
              "    <path d=\"M7,19H8.4L18.45,9,17,7.55,7,17.6ZM5,21V16.75L18.45,3.32a2,2,0,0,1,2.83,0l1.4,1.43a1.91,1.91,0,0,1,.58,1.4,1.91,1.91,0,0,1-.58,1.4L9.25,21ZM18.45,9,17,7.55Zm-12,3A5.31,5.31,0,0,0,4.9,8.1,5.31,5.31,0,0,0,1,6.5,5.31,5.31,0,0,0,4.9,4.9,5.31,5.31,0,0,0,6.5,1,5.31,5.31,0,0,0,8.1,4.9,5.31,5.31,0,0,0,12,6.5,5.46,5.46,0,0,0,6.5,12Z\"/>\n",
              "  </svg>\n",
              "    </button>\n",
              "    <script>\n",
              "      (() => {\n",
              "      const buttonEl =\n",
              "        document.querySelector('#id_7de24e02-dab5-4ca9-8800-3c857c893494 button.colab-df-generate');\n",
              "      buttonEl.style.display =\n",
              "        google.colab.kernel.accessAllowed ? 'block' : 'none';\n",
              "\n",
              "      buttonEl.onclick = () => {\n",
              "        google.colab.notebook.generateWithVariable('X_train_scaled');\n",
              "      }\n",
              "      })();\n",
              "    </script>\n",
              "  </div>\n",
              "\n",
              "    </div>\n",
              "  </div>\n"
            ],
            "application/vnd.google.colaboratory.intrinsic+json": {
              "type": "dataframe",
              "variable_name": "X_train_scaled",
              "summary": "{\n  \"name\": \"X_train_scaled\",\n  \"rows\": 16512,\n  \"fields\": [\n    {\n      \"column\": \"MedInc\",\n      \"properties\": {\n        \"dtype\": \"number\",\n        \"std\": 1.0000302823832303,\n        \"min\": -1.7754384434994495,\n        \"max\": 5.839267946533966,\n        \"num_unique_values\": 10932,\n        \"samples\": [\n          0.9768460898287207,\n          0.8408860696648851,\n          0.5903394276402962\n        ],\n        \"semantic_type\": \"\",\n        \"description\": \"\"\n      }\n    },\n    {\n      \"column\": \"HouseAge\",\n      \"properties\": {\n        \"dtype\": \"number\",\n        \"std\": 1.0000302823832306,\n        \"min\": -2.1907655106085215,\n        \"max\": 1.8561733525482766,\n        \"num_unique_values\": 52,\n        \"samples\": [\n          -1.0798411168007729,\n          0.7452489587405281,\n          1.7768216101334373\n        ],\n        \"semantic_type\": \"\",\n        \"description\": \"\"\n      }\n    },\n    {\n      \"column\": \"AveRooms\",\n      \"properties\": {\n        \"dtype\": \"number\",\n        \"std\": 1.0000302823832303,\n        \"min\": -1.9043862182419304,\n        \"max\": 57.166551507859516,\n        \"num_unique_values\": 15671,\n        \"samples\": [\n          -0.09528430344018683,\n          0.32283377326404994,\n          -0.30113595501887763\n        ],\n        \"semantic_type\": \"\",\n        \"description\": \"\"\n      }\n    },\n    {\n      \"column\": \"AveBedrms\",\n      \"properties\": {\n        \"dtype\": \"number\",\n        \"std\": 1.0000302823832306,\n        \"min\": -1.7621165794365337,\n        \"max\": 56.647271684169525,\n        \"num_unique_values\": 11949,\n        \"samples\": [\n          5.342610208555787,\n          -0.1382698327812208,\n          -0.20693028654453438\n        ],\n        \"semantic_type\": \"\",\n        \"description\": \"\"\n      }\n    },\n    {\n      \"column\": \"Population\",\n      \"properties\": {\n        \"dtype\": \"number\",\n        \"std\": 1.0000302823832306,\n        \"min\": -1.2519133921041592,\n        \"max\": 30.12742810723508,\n        \"num_unique_values\": 3639,\n        \"samples\": [\n          1.5281560739518216,\n          -0.4480590763891429,\n          -1.0768947828839313\n        ],\n        \"semantic_type\": \"\",\n        \"description\": \"\"\n      }\n    },\n    {\n      \"column\": \"AveOccup\",\n      \"properties\": {\n        \"dtype\": \"number\",\n        \"std\": 1.0000302823832306,\n        \"min\": -0.20768455488371665,\n        \"max\": 107.11644677509909,\n        \"num_unique_values\": 15297,\n        \"samples\": [\n          -0.06400101971389315,\n          -0.08233632264863035,\n          0.02533503771733614\n        ],\n        \"semantic_type\": \"\",\n        \"description\": \"\"\n      }\n    },\n    {\n      \"column\": \"Latitude\",\n      \"properties\": {\n        \"dtype\": \"number\",\n        \"std\": 1.0000302823832308,\n        \"min\": -1.4476965100470898,\n        \"max\": 2.951815510035051,\n        \"num_unique_values\": 845,\n        \"samples\": [\n          0.6912151848226308,\n          0.8409858067828739,\n          -0.3618595008353278\n        ],\n        \"semantic_type\": \"\",\n        \"description\": \"\"\n      }\n    },\n    {\n      \"column\": \"Longitude\",\n      \"properties\": {\n        \"dtype\": \"number\",\n        \"std\": 1.0000302823832306,\n        \"min\": -2.377207142428577,\n        \"max\": 2.6287940593743486,\n        \"num_unique_values\": 833,\n        \"samples\": [\n          1.5318615251147414,\n          -1.7190476218728166,\n          1.182837536941236\n        ],\n        \"semantic_type\": \"\",\n        \"description\": \"\"\n      }\n    }\n  ]\n}"
            }
          },
          "metadata": {},
          "execution_count": 21
        }
      ],
      "id": "aj5pc6hiBa7A"
    },
    {
      "cell_type": "code",
      "source": [
        "y_train"
      ],
      "metadata": {
        "colab": {
          "base_uri": "https://localhost:8080/"
        },
        "id": "1vrbnDSaABFy",
        "outputId": "5cb0c94c-1a56-4118-9cdf-e8f85d9f3840"
      },
      "execution_count": null,
      "outputs": [
        {
          "output_type": "execute_result",
          "data": {
            "text/plain": [
              "array([1.03 , 3.821, 1.726, ..., 2.221, 2.835, 3.25 ])"
            ]
          },
          "metadata": {},
          "execution_count": 22
        }
      ],
      "id": "1vrbnDSaABFy"
    },
    {
      "cell_type": "code",
      "source": [
        "layer0 = tf.keras.layers.Dense(\n",
        "    units=10,  # neurons in first hidden layer\n",
        "    input_shape=[X_train_scaled.shape[1]],  # input shape\n",
        "    activation=\"relu\"\n",
        ")\n",
        "\n",
        "layer1 = tf.keras.layers.Dense(\n",
        "    units=10,  # neurons in second hidden layer\n",
        "    activation=\"relu\"\n",
        ")\n",
        "\n",
        "layer2 = tf.keras.layers.Dense(\n",
        "    units=1,  # output shape\n",
        ")\n",
        "\n",
        "# sequential API to connect layers one by one\n",
        "model = tf.keras.Sequential([layer0, layer1, layer2])\n",
        "\n",
        "# compilation to define loss function and optimizer\n",
        "model.compile(\n",
        "    loss='mean_squared_error',\n",
        "    optimizer=tf.keras.optimizers.Adam(0.1)\n",
        ")\n",
        "\n",
        "history = model.fit(\n",
        "    X_train_scaled,  # training set, features\n",
        "    y_train,  # training set, target variable\n",
        "    validation_data=(X_test_scaled, y_test),  # validation data\n",
        "    epochs=30,\n",
        "    verbose=True\n",
        ")"
      ],
      "metadata": {
        "colab": {
          "base_uri": "https://localhost:8080/"
        },
        "id": "V0V26giFus76",
        "outputId": "8b4095f5-c7af-4595-b569-b9d370214b83"
      },
      "id": "V0V26giFus76",
      "execution_count": null,
      "outputs": [
        {
          "output_type": "stream",
          "name": "stdout",
          "text": [
            "Epoch 1/30\n",
            "516/516 [==============================] - 2s 2ms/step - loss: 0.4896 - val_loss: 0.5216\n",
            "Epoch 2/30\n",
            "516/516 [==============================] - 1s 2ms/step - loss: 0.4535 - val_loss: 0.4944\n",
            "Epoch 3/30\n",
            "516/516 [==============================] - 1s 2ms/step - loss: 0.4304 - val_loss: 0.4468\n",
            "Epoch 4/30\n",
            "516/516 [==============================] - 1s 2ms/step - loss: 0.6204 - val_loss: 0.5370\n",
            "Epoch 5/30\n",
            "516/516 [==============================] - 1s 2ms/step - loss: 1.3423 - val_loss: 1.3114\n",
            "Epoch 6/30\n",
            "516/516 [==============================] - 1s 2ms/step - loss: 1.3454 - val_loss: 1.3105\n",
            "Epoch 7/30\n",
            "516/516 [==============================] - 1s 2ms/step - loss: 1.3446 - val_loss: 1.3215\n",
            "Epoch 8/30\n",
            "516/516 [==============================] - 1s 3ms/step - loss: 1.3443 - val_loss: 1.3174\n",
            "Epoch 9/30\n",
            "516/516 [==============================] - 2s 3ms/step - loss: 1.3454 - val_loss: 1.3165\n",
            "Epoch 10/30\n",
            "516/516 [==============================] - 1s 3ms/step - loss: 1.3451 - val_loss: 1.3182\n",
            "Epoch 11/30\n",
            "516/516 [==============================] - 1s 2ms/step - loss: 1.3472 - val_loss: 1.3423\n",
            "Epoch 12/30\n",
            "516/516 [==============================] - 1s 2ms/step - loss: 1.3468 - val_loss: 1.3541\n",
            "Epoch 13/30\n",
            "516/516 [==============================] - 1s 2ms/step - loss: 1.3475 - val_loss: 1.3144\n",
            "Epoch 14/30\n",
            "516/516 [==============================] - 1s 2ms/step - loss: 1.3505 - val_loss: 1.3151\n",
            "Epoch 15/30\n",
            "516/516 [==============================] - 1s 2ms/step - loss: 1.3474 - val_loss: 1.3106\n",
            "Epoch 16/30\n",
            "516/516 [==============================] - 1s 2ms/step - loss: 1.3439 - val_loss: 1.3267\n",
            "Epoch 17/30\n",
            "516/516 [==============================] - 2s 3ms/step - loss: 1.3444 - val_loss: 1.3161\n",
            "Epoch 18/30\n",
            "516/516 [==============================] - 1s 2ms/step - loss: 1.3471 - val_loss: 1.3104\n",
            "Epoch 19/30\n",
            "516/516 [==============================] - 1s 2ms/step - loss: 1.3452 - val_loss: 1.3112\n",
            "Epoch 20/30\n",
            "516/516 [==============================] - 1s 3ms/step - loss: 1.3509 - val_loss: 1.3262\n",
            "Epoch 21/30\n",
            "516/516 [==============================] - 2s 3ms/step - loss: 1.3456 - val_loss: 1.3105\n",
            "Epoch 22/30\n",
            "516/516 [==============================] - 1s 2ms/step - loss: 1.3456 - val_loss: 1.3715\n",
            "Epoch 23/30\n",
            "516/516 [==============================] - 1s 2ms/step - loss: 1.3452 - val_loss: 1.3557\n",
            "Epoch 24/30\n",
            "516/516 [==============================] - 1s 2ms/step - loss: 1.3461 - val_loss: 1.3150\n",
            "Epoch 25/30\n",
            "516/516 [==============================] - 2s 4ms/step - loss: 1.3459 - val_loss: 1.3230\n",
            "Epoch 26/30\n",
            "516/516 [==============================] - 2s 3ms/step - loss: 1.3485 - val_loss: 1.3186\n",
            "Epoch 27/30\n",
            "516/516 [==============================] - 1s 2ms/step - loss: 1.3425 - val_loss: 1.3788\n",
            "Epoch 28/30\n",
            "516/516 [==============================] - 1s 2ms/step - loss: 1.3515 - val_loss: 1.3119\n",
            "Epoch 29/30\n",
            "516/516 [==============================] - 1s 2ms/step - loss: 1.3430 - val_loss: 1.3309\n",
            "Epoch 30/30\n",
            "516/516 [==============================] - 1s 2ms/step - loss: 1.3443 - val_loss: 1.3212\n"
          ]
        }
      ]
    },
    {
      "cell_type": "code",
      "source": [
        "sns.kdeplot(\n",
        "    x=y_test,\n",
        "    y=model.predict(X_test_scaled).flatten()  # convert column-vector to row-vector\n",
        ")\n",
        "\n",
        "plt.xlabel('True Value')\n",
        "plt.ylabel(\"Predicted Value\")\n",
        "\n",
        "lims = [\n",
        "    min(y_test.min(), model.predict(X_test_scaled).min()),  # min of both axes\n",
        "    max(y_test.max(), model.predict(X_test_scaled).max()),  # max of both axes\n",
        "]\n",
        "\n",
        "plt.xlim(lims)\n",
        "plt.ylim(lims)\n",
        "\n",
        "# ensure the plot is square\n",
        "plt.gca().set_aspect('equal', adjustable='box')\n",
        "plt.show()"
      ],
      "metadata": {
        "colab": {
          "base_uri": "https://localhost:8080/",
          "height": 564
        },
        "id": "1tMBNWrTwhuT",
        "outputId": "4f9897e2-d35a-4c7f-ea32-2802496ed5e9"
      },
      "id": "1tMBNWrTwhuT",
      "execution_count": null,
      "outputs": [
        {
          "output_type": "stream",
          "name": "stdout",
          "text": [
            "129/129 [==============================] - 0s 1ms/step\n",
            " 43/129 [=========>....................] - ETA: 0s"
          ]
        },
        {
          "output_type": "stream",
          "name": "stderr",
          "text": [
            "<ipython-input-24-7709a8f0df8c>:1: UserWarning: KDE cannot be estimated (0 variance or perfect covariance). Pass `warn_singular=False` to disable this warning.\n",
            "  sns.kdeplot(\n"
          ]
        },
        {
          "output_type": "stream",
          "name": "stdout",
          "text": [
            "129/129 [==============================] - 0s 1ms/step\n",
            "129/129 [==============================] - 0s 1ms/step\n"
          ]
        },
        {
          "output_type": "display_data",
          "data": {
            "text/plain": [
              "<Figure size 640x480 with 1 Axes>"
            ],
            "image/png": "[encoded data removed]"
          },
          "metadata": {}
        }
      ]
    },
    {
      "cell_type": "code",
      "source": [
        "plt.plot(history.history['loss'], label='train')\n",
        "plt.plot(history.history['val_loss'], label='test')\n",
        "\n",
        "plt.xlabel('Epoch Number')\n",
        "plt.ylabel(\"Loss Magnitude\")\n",
        "plt.legend()\n",
        "plt.show()"
      ],
      "metadata": {
        "colab": {
          "base_uri": "https://localhost:8080/",
          "height": 449
        },
        "id": "_u7ZPD6Owpam",
        "outputId": "bc3e29b5-95c5-4b09-dab8-84bb1ee54baf"
      },
      "id": "_u7ZPD6Owpam",
      "execution_count": null,
      "outputs": [
        {
          "output_type": "display_data",
          "data": {
            "text/plain": [
              "<Figure size 640x480 with 1 Axes>"
            ],
            "image/png": "[encoded data removed]"
          },
          "metadata": {}
        }
      ]
    },
    {
      "cell_type": "markdown",
      "source": [
        "### Classification (Wine dataset)\n",
        "\n",
        "This is a copy of UCI ML Wine recognition datasets, see https://archive.ics.uci.edu/ml/machine-learning-databases/wine/wine.data.\n",
        "\n",
        "The data is the results of a **<font color='#4472c4'>chemical analysis of wines</font>** grown in the same region in Italy by three different cultivators. There are thirteen different measurements taken for different constituents found in the three types of wine.\n",
        "\n",
        "Features:\n",
        "* Alcohol\n",
        "* Malic acid\n",
        "* Ash\n",
        "* Alcalinity of ash\n",
        "* Magnesium\n",
        "* Total phenols\n",
        "* Flavanoids\n",
        "* Nonflavanoid phenols\n",
        "* Proanthocyanins\n",
        "* Color intensity\n",
        "* Hue\n",
        "* OD280/OD315 of diluted wines\n",
        "* Proline"
      ],
      "metadata": {
        "id": "_0XimnMg_7Og"
      },
      "id": "_0XimnMg_7Og"
    },
    {
      "cell_type": "code",
      "source": [
        "def get_wine_data():\n",
        "    wine_dataset = load_wine()\n",
        "\n",
        "    X = pd.DataFrame(\n",
        "        wine_dataset.data,\n",
        "        columns=wine_dataset.feature_names\n",
        "    )\n",
        "    y = wine_dataset.target\n",
        "\n",
        "    X_train, X_test, y_train, y_test = train_test_split(\n",
        "        X, y,random_state=42, test_size=0.2, stratify=y\n",
        "    )\n",
        "\n",
        "    scaler = StandardScaler()\n",
        "    X_train_scaled = scaler.fit_transform(X_train)\n",
        "    X_test_scaled = scaler.transform(X_test)\n",
        "\n",
        "    X_train_scaled = pd.DataFrame(X_train_scaled, columns=X_train.columns)\n",
        "    X_test_scaled = pd.DataFrame(X_test_scaled, columns=X_test.columns)\n",
        "\n",
        "    return X_train_scaled, X_test_scaled, y_train, y_test"
      ],
      "metadata": {
        "id": "oUcH6G69_610"
      },
      "execution_count": null,
      "outputs": [],
      "id": "oUcH6G69_610"
    },
    {
      "cell_type": "code",
      "source": [
        "X_train_scaled, X_test_scaled, y_train, y_test = get_wine_data()"
      ],
      "metadata": {
        "id": "aaxXTW9PCC40"
      },
      "execution_count": null,
      "outputs": [],
      "id": "aaxXTW9PCC40"
    },
    {
      "cell_type": "code",
      "source": [
        "X_train_scaled"
      ],
      "metadata": {
        "colab": {
          "base_uri": "https://localhost:8080/",
          "height": 444
        },
        "id": "myP1nNHEAqTX",
        "outputId": "28662b06-7dff-42f5-e0ef-a076f9499eb4"
      },
      "execution_count": null,
      "outputs": [
        {
          "output_type": "execute_result",
          "data": {
            "text/plain": [
              "      alcohol  malic_acid       ash  alcalinity_of_ash  magnesium  \\\n",
              "0    0.385801   -0.637871  1.776668          -1.224532   0.696430   \n",
              "1    0.948519   -0.765445  1.253174           0.853284   0.091785   \n",
              "2    0.523354   -0.519409  0.954034          -1.046433  -0.445678   \n",
              "3    0.973529   -0.555859  0.168793          -1.076116  -0.714409   \n",
              "4    0.435820    0.820120  0.056615           0.556453  -0.512860   \n",
              "..        ...         ...       ...                ...        ...   \n",
              "137  0.685917    0.756333  1.327959           1.150115  -0.176946   \n",
              "138 -1.652489   -0.610534  0.954034           1.892192  -0.781592   \n",
              "139  0.673412   -0.492072  1.066212          -0.185624   0.696430   \n",
              "140 -0.014354    1.011481 -0.055562          -0.334039   0.427699   \n",
              "141 -0.114393    0.592309  0.131400           0.111207   0.293333   \n",
              "\n",
              "     total_phenols  flavanoids  nonflavanoid_phenols  proanthocyanins  \\\n",
              "0         0.526865    0.732292             -0.169549        -0.415783   \n",
              "1         1.172795    1.333181             -0.590457         1.349742   \n",
              "2         0.930572    1.006382             -0.169549        -0.260002   \n",
              "3         0.526865    0.816627             -0.590457         0.363125   \n",
              "4        -0.555068   -1.291756              0.756449        -0.606183   \n",
              "..             ...         ...                   ...              ...   \n",
              "137      -1.168702   -1.544762              1.177357        -1.817818   \n",
              "138      -0.571216   -0.395693              0.335541        -0.450402   \n",
              "139       0.123159    0.574163             -0.590457        -0.104220   \n",
              "140      -1.427074   -1.355008              0.335541        -1.142765   \n",
              "141      -1.572408   -0.806828             -1.011365        -1.333164   \n",
              "\n",
              "     color_intensity       hue  od280/od315_of_diluted_wines   proline  \n",
              "0          -0.167467  0.624378                      0.252908  0.467725  \n",
              "1           0.305303  1.067155                      0.151048  1.815768  \n",
              "2          -0.081509 -0.128343                      0.893172  1.516203  \n",
              "3           0.262324  0.890044                      0.427526  1.932265  \n",
              "4           1.474335 -1.766619                     -1.435059 -0.297831  \n",
              "..               ...       ...                           ...       ...  \n",
              "137        -0.274915 -0.261176                     -0.794796 -0.730536  \n",
              "138        -1.027050  1.819877                      0.878620 -0.590739  \n",
              "139        -0.339384  0.668656                      0.383871  1.183353  \n",
              "140         0.124791 -1.191008                     -1.245891 -0.214618  \n",
              "141         0.176366 -0.925342                     -1.726088 -0.697251  \n",
              "\n",
              "[142 rows x 13 columns]"
            ],
            "text/html": [
              "\n",
              "  <div id=\"df-e5d07766-3820-4af7-80d3-cbf75bf29c7c\" class=\"colab-df-container\">\n",
              "    <div>\n",
              "<style scoped>\n",
              "    .dataframe tbody tr th:only-of-type {\n",
              "        vertical-align: middle;\n",
              "    }\n",
              "\n",
              "    .dataframe tbody tr th {\n",
              "        vertical-align: top;\n",
              "    }\n",
              "\n",
              "    .dataframe thead th {\n",
              "        text-align: right;\n",
              "    }\n",
              "</style>\n",
              "<table border=\"1\" class=\"dataframe\">\n",
              "  <thead>\n",
              "    <tr style=\"text-align: right;\">\n",
              "      <th></th>\n",
              "      <th>alcohol</th>\n",
              "      <th>malic_acid</th>\n",
              "      <th>ash</th>\n",
              "      <th>alcalinity_of_ash</th>\n",
              "      <th>magnesium</th>\n",
              "      <th>total_phenols</th>\n",
              "      <th>flavanoids</th>\n",
              "      <th>nonflavanoid_phenols</th>\n",
              "      <th>proanthocyanins</th>\n",
              "      <th>color_intensity</th>\n",
              "      <th>hue</th>\n",
              "      <th>od280/od315_of_diluted_wines</th>\n",
              "      <th>proline</th>\n",
              "    </tr>\n",
              "  </thead>\n",
              "  <tbody>\n",
              "    <tr>\n",
              "      <th>0</th>\n",
              "      <td>0.385801</td>\n",
              "      <td>-0.637871</td>\n",
              "      <td>1.776668</td>\n",
              "      <td>-1.224532</td>\n",
              "      <td>0.696430</td>\n",
              "      <td>0.526865</td>\n",
              "      <td>0.732292</td>\n",
              "      <td>-0.169549</td>\n",
              "      <td>-0.415783</td>\n",
              "      <td>-0.167467</td>\n",
              "      <td>0.624378</td>\n",
              "      <td>0.252908</td>\n",
              "      <td>0.467725</td>\n",
              "    </tr>\n",
              "    <tr>\n",
              "      <th>1</th>\n",
              "      <td>0.948519</td>\n",
              "      <td>-0.765445</td>\n",
              "      <td>1.253174</td>\n",
              "      <td>0.853284</td>\n",
              "      <td>0.091785</td>\n",
              "      <td>1.172795</td>\n",
              "      <td>1.333181</td>\n",
              "      <td>-0.590457</td>\n",
              "      <td>1.349742</td>\n",
              "      <td>0.305303</td>\n",
              "      <td>1.067155</td>\n",
              "      <td>0.151048</td>\n",
              "      <td>1.815768</td>\n",
              "    </tr>\n",
              "    <tr>\n",
              "      <th>2</th>\n",
              "      <td>0.523354</td>\n",
              "      <td>-0.519409</td>\n",
              "      <td>0.954034</td>\n",
              "      <td>-1.046433</td>\n",
              "      <td>-0.445678</td>\n",
              "      <td>0.930572</td>\n",
              "      <td>1.006382</td>\n",
              "      <td>-0.169549</td>\n",
              "      <td>-0.260002</td>\n",
              "      <td>-0.081509</td>\n",
              "      <td>-0.128343</td>\n",
              "      <td>0.893172</td>\n",
              "      <td>1.516203</td>\n",
              "    </tr>\n",
              "    <tr>\n",
              "      <th>3</th>\n",
              "      <td>0.973529</td>\n",
              "      <td>-0.555859</td>\n",
              "      <td>0.168793</td>\n",
              "      <td>-1.076116</td>\n",
              "      <td>-0.714409</td>\n",
              "      <td>0.526865</td>\n",
              "      <td>0.816627</td>\n",
              "      <td>-0.590457</td>\n",
              "      <td>0.363125</td>\n",
              "      <td>0.262324</td>\n",
              "      <td>0.890044</td>\n",
              "      <td>0.427526</td>\n",
              "      <td>1.932265</td>\n",
              "    </tr>\n",
              "    <tr>\n",
              "      <th>4</th>\n",
              "      <td>0.435820</td>\n",
              "      <td>0.820120</td>\n",
              "      <td>0.056615</td>\n",
              "      <td>0.556453</td>\n",
              "      <td>-0.512860</td>\n",
              "      <td>-0.555068</td>\n",
              "      <td>-1.291756</td>\n",
              "      <td>0.756449</td>\n",
              "      <td>-0.606183</td>\n",
              "      <td>1.474335</td>\n",
              "      <td>-1.766619</td>\n",
              "      <td>-1.435059</td>\n",
              "      <td>-0.297831</td>\n",
              "    </tr>\n",
              "    <tr>\n",
              "      <th>...</th>\n",
              "      <td>...</td>\n",
              "      <td>...</td>\n",
              "      <td>...</td>\n",
              "      <td>...</td>\n",
              "      <td>...</td>\n",
              "      <td>...</td>\n",
              "      <td>...</td>\n",
              "      <td>...</td>\n",
              "      <td>...</td>\n",
              "      <td>...</td>\n",
              "      <td>...</td>\n",
              "      <td>...</td>\n",
              "      <td>...</td>\n",
              "    </tr>\n",
              "    <tr>\n",
              "      <th>137</th>\n",
              "      <td>0.685917</td>\n",
              "      <td>0.756333</td>\n",
              "      <td>1.327959</td>\n",
              "      <td>1.150115</td>\n",
              "      <td>-0.176946</td>\n",
              "      <td>-1.168702</td>\n",
              "      <td>-1.544762</td>\n",
              "      <td>1.177357</td>\n",
              "      <td>-1.817818</td>\n",
              "      <td>-0.274915</td>\n",
              "      <td>-0.261176</td>\n",
              "      <td>-0.794796</td>\n",
              "      <td>-0.730536</td>\n",
              "    </tr>\n",
              "    <tr>\n",
              "      <th>138</th>\n",
              "      <td>-1.652489</td>\n",
              "      <td>-0.610534</td>\n",
              "      <td>0.954034</td>\n",
              "      <td>1.892192</td>\n",
              "      <td>-0.781592</td>\n",
              "      <td>-0.571216</td>\n",
              "      <td>-0.395693</td>\n",
              "      <td>0.335541</td>\n",
              "      <td>-0.450402</td>\n",
              "      <td>-1.027050</td>\n",
              "      <td>1.819877</td>\n",
              "      <td>0.878620</td>\n",
              "      <td>-0.590739</td>\n",
              "    </tr>\n",
              "    <tr>\n",
              "      <th>139</th>\n",
              "      <td>0.673412</td>\n",
              "      <td>-0.492072</td>\n",
              "      <td>1.066212</td>\n",
              "      <td>-0.185624</td>\n",
              "      <td>0.696430</td>\n",
              "      <td>0.123159</td>\n",
              "      <td>0.574163</td>\n",
              "      <td>-0.590457</td>\n",
              "      <td>-0.104220</td>\n",
              "      <td>-0.339384</td>\n",
              "      <td>0.668656</td>\n",
              "      <td>0.383871</td>\n",
              "      <td>1.183353</td>\n",
              "    </tr>\n",
              "    <tr>\n",
              "      <th>140</th>\n",
              "      <td>-0.014354</td>\n",
              "      <td>1.011481</td>\n",
              "      <td>-0.055562</td>\n",
              "      <td>-0.334039</td>\n",
              "      <td>0.427699</td>\n",
              "      <td>-1.427074</td>\n",
              "      <td>-1.355008</td>\n",
              "      <td>0.335541</td>\n",
              "      <td>-1.142765</td>\n",
              "      <td>0.124791</td>\n",
              "      <td>-1.191008</td>\n",
              "      <td>-1.245891</td>\n",
              "      <td>-0.214618</td>\n",
              "    </tr>\n",
              "    <tr>\n",
              "      <th>141</th>\n",
              "      <td>-0.114393</td>\n",
              "      <td>0.592309</td>\n",
              "      <td>0.131400</td>\n",
              "      <td>0.111207</td>\n",
              "      <td>0.293333</td>\n",
              "      <td>-1.572408</td>\n",
              "      <td>-0.806828</td>\n",
              "      <td>-1.011365</td>\n",
              "      <td>-1.333164</td>\n",
              "      <td>0.176366</td>\n",
              "      <td>-0.925342</td>\n",
              "      <td>-1.726088</td>\n",
              "      <td>-0.697251</td>\n",
              "    </tr>\n",
              "  </tbody>\n",
              "</table>\n",
              "<p>142 rows × 13 columns</p>\n",
              "</div>\n",
              "    <div class=\"colab-df-buttons\">\n",
              "\n",
              "  <div class=\"colab-df-container\">\n",
              "    <button class=\"colab-df-convert\" onclick=\"convertToInteractive('df-e5d07766-3820-4af7-80d3-cbf75bf29c7c')\"\n",
              "            title=\"Convert this dataframe to an interactive table.\"\n",
              "            style=\"display:none;\">\n",
              "\n",
              "  <svg xmlns=\"http://www.w3.org/2000/svg\" height=\"24px\" viewBox=\"0 -960 960 960\">\n",
              "    <path d=\"M120-120v-720h720v720H120Zm60-500h600v-160H180v160Zm220 220h160v-160H400v160Zm0 220h160v-160H400v160ZM180-400h160v-160H180v160Zm440 0h160v-160H620v160ZM180-180h160v-160H180v160Zm440 0h160v-160H620v160Z\"/>\n",
              "  </svg>\n",
              "    </button>\n",
              "\n",
              "  <style>\n",
              "    .colab-df-container {\n",
              "      display:flex;\n",
              "      gap: 12px;\n",
              "    }\n",
              "\n",
              "    .colab-df-convert {\n",
              "      background-color: #E8F0FE;\n",
              "      border: none;\n",
              "      border-radius: 50%;\n",
              "      cursor: pointer;\n",
              "      display: none;\n",
              "      fill: #1967D2;\n",
              "      height: 32px;\n",
              "      padding: 0 0 0 0;\n",
              "      width: 32px;\n",
              "    }\n",
              "\n",
              "    .colab-df-convert:hover {\n",
              "      background-color: #E2EBFA;\n",
              "      box-shadow: 0px 1px 2px rgba(60, 64, 67, 0.3), 0px 1px 3px 1px rgba(60, 64, 67, 0.15);\n",
              "      fill: #174EA6;\n",
              "    }\n",
              "\n",
              "    .colab-df-buttons div {\n",
              "      margin-bottom: 4px;\n",
              "    }\n",
              "\n",
              "    [theme=dark] .colab-df-convert {\n",
              "      background-color: #3B4455;\n",
              "      fill: #D2E3FC;\n",
              "    }\n",
              "\n",
              "    [theme=dark] .colab-df-convert:hover {\n",
              "      background-color: #434B5C;\n",
              "      box-shadow: 0px 1px 3px 1px rgba(0, 0, 0, 0.15);\n",
              "      filter: drop-shadow(0px 1px 2px rgba(0, 0, 0, 0.3));\n",
              "      fill: #FFFFFF;\n",
              "    }\n",
              "  </style>\n",
              "\n",
              "    <script>\n",
              "      const buttonEl =\n",
              "        document.querySelector('#df-e5d07766-3820-4af7-80d3-cbf75bf29c7c button.colab-df-convert');\n",
              "      buttonEl.style.display =\n",
              "        google.colab.kernel.accessAllowed ? 'block' : 'none';\n",
              "\n",
              "      async function convertToInteractive(key) {\n",
              "        const element = document.querySelector('#df-e5d07766-3820-4af7-80d3-cbf75bf29c7c');\n",
              "        const dataTable =\n",
              "          await google.colab.kernel.invokeFunction('convertToInteractive',\n",
              "                                                    [key], {});\n",
              "        if (!dataTable) return;\n",
              "\n",
              "        const docLinkHtml = 'Like what you see? Visit the ' +\n",
              "          '<a target=\"_blank\" href=https://colab.research.google.com/notebooks/data_table.ipynb>data table notebook</a>'\n",
              "          + ' to learn more about interactive tables.';\n",
              "        element.innerHTML = '';\n",
              "        dataTable['output_type'] = 'display_data';\n",
              "        await google.colab.output.renderOutput(dataTable, element);\n",
              "        const docLink = document.createElement('div');\n",
              "        docLink.innerHTML = docLinkHtml;\n",
              "        element.appendChild(docLink);\n",
              "      }\n",
              "    </script>\n",
              "  </div>\n",
              "\n",
              "\n",
              "<div id=\"df-e8d17e10-ebdb-4970-9407-b8f1a0c67979\">\n",
              "  <button class=\"colab-df-quickchart\" onclick=\"quickchart('df-e8d17e10-ebdb-4970-9407-b8f1a0c67979')\"\n",
              "            title=\"Suggest charts\"\n",
              "            style=\"display:none;\">\n",
              "\n",
              "<svg xmlns=\"http://www.w3.org/2000/svg\" height=\"24px\"viewBox=\"0 0 24 24\"\n",
              "     width=\"24px\">\n",
              "    <g>\n",
              "        <path d=\"M19 3H5c-1.1 0-2 .9-2 2v14c0 1.1.9 2 2 2h14c1.1 0 2-.9 2-2V5c0-1.1-.9-2-2-2zM9 17H7v-7h2v7zm4 0h-2V7h2v10zm4 0h-2v-4h2v4z\"/>\n",
              "    </g>\n",
              "</svg>\n",
              "  </button>\n",
              "\n",
              "<style>\n",
              "  .colab-df-quickchart {\n",
              "      --bg-color: #E8F0FE;\n",
              "      --fill-color: #1967D2;\n",
              "      --hover-bg-color: #E2EBFA;\n",
              "      --hover-fill-color: #174EA6;\n",
              "      --disabled-fill-color: #AAA;\n",
              "      --disabled-bg-color: #DDD;\n",
              "  }\n",
              "\n",
              "  [theme=dark] .colab-df-quickchart {\n",
              "      --bg-color: #3B4455;\n",
              "      --fill-color: #D2E3FC;\n",
              "      --hover-bg-color: #434B5C;\n",
              "      --hover-fill-color: #FFFFFF;\n",
              "      --disabled-bg-color: #3B4455;\n",
              "      --disabled-fill-color: #666;\n",
              "  }\n",
              "\n",
              "  .colab-df-quickchart {\n",
              "    background-color: var(--bg-color);\n",
              "    border: none;\n",
              "    border-radius: 50%;\n",
              "    cursor: pointer;\n",
              "    display: none;\n",
              "    fill: var(--fill-color);\n",
              "    height: 32px;\n",
              "    padding: 0;\n",
              "    width: 32px;\n",
              "  }\n",
              "\n",
              "  .colab-df-quickchart:hover {\n",
              "    background-color: var(--hover-bg-color);\n",
              "    box-shadow: 0 1px 2px rgba(60, 64, 67, 0.3), 0 1px 3px 1px rgba(60, 64, 67, 0.15);\n",
              "    fill: var(--button-hover-fill-color);\n",
              "  }\n",
              "\n",
              "  .colab-df-quickchart-complete:disabled,\n",
              "  .colab-df-quickchart-complete:disabled:hover {\n",
              "    background-color: var(--disabled-bg-color);\n",
              "    fill: var(--disabled-fill-color);\n",
              "    box-shadow: none;\n",
              "  }\n",
              "\n",
              "  .colab-df-spinner {\n",
              "    border: 2px solid var(--fill-color);\n",
              "    border-color: transparent;\n",
              "    border-bottom-color: var(--fill-color);\n",
              "    animation:\n",
              "      spin 1s steps(1) infinite;\n",
              "  }\n",
              "\n",
              "  @keyframes spin {\n",
              "    0% {\n",
              "      border-color: transparent;\n",
              "      border-bottom-color: var(--fill-color);\n",
              "      border-left-color: var(--fill-color);\n",
              "    }\n",
              "    20% {\n",
              "      border-color: transparent;\n",
              "      border-left-color: var(--fill-color);\n",
              "      border-top-color: var(--fill-color);\n",
              "    }\n",
              "    30% {\n",
              "      border-color: transparent;\n",
              "      border-left-color: var(--fill-color);\n",
              "      border-top-color: var(--fill-color);\n",
              "      border-right-color: var(--fill-color);\n",
              "    }\n",
              "    40% {\n",
              "      border-color: transparent;\n",
              "      border-right-color: var(--fill-color);\n",
              "      border-top-color: var(--fill-color);\n",
              "    }\n",
              "    60% {\n",
              "      border-color: transparent;\n",
              "      border-right-color: var(--fill-color);\n",
              "    }\n",
              "    80% {\n",
              "      border-color: transparent;\n",
              "      border-right-color: var(--fill-color);\n",
              "      border-bottom-color: var(--fill-color);\n",
              "    }\n",
              "    90% {\n",
              "      border-color: transparent;\n",
              "      border-bottom-color: var(--fill-color);\n",
              "    }\n",
              "  }\n",
              "</style>\n",
              "\n",
              "  <script>\n",
              "    async function quickchart(key) {\n",
              "      const quickchartButtonEl =\n",
              "        document.querySelector('#' + key + ' button');\n",
              "      quickchartButtonEl.disabled = true;  // To prevent multiple clicks.\n",
              "      quickchartButtonEl.classList.add('colab-df-spinner');\n",
              "      try {\n",
              "        const charts = await google.colab.kernel.invokeFunction(\n",
              "            'suggestCharts', [key], {});\n",
              "      } catch (error) {\n",
              "        console.error('Error during call to suggestCharts:', error);\n",
              "      }\n",
              "      quickchartButtonEl.classList.remove('colab-df-spinner');\n",
              "      quickchartButtonEl.classList.add('colab-df-quickchart-complete');\n",
              "    }\n",
              "    (() => {\n",
              "      let quickchartButtonEl =\n",
              "        document.querySelector('#df-e8d17e10-ebdb-4970-9407-b8f1a0c67979 button');\n",
              "      quickchartButtonEl.style.display =\n",
              "        google.colab.kernel.accessAllowed ? 'block' : 'none';\n",
              "    })();\n",
              "  </script>\n",
              "</div>\n",
              "\n",
              "  <div id=\"id_93bdb5d1-3a6a-4a31-b6d6-8e7e4ccb76b0\">\n",
              "    <style>\n",
              "      .colab-df-generate {\n",
              "        background-color: #E8F0FE;\n",
              "        border: none;\n",
              "        border-radius: 50%;\n",
              "        cursor: pointer;\n",
              "        display: none;\n",
              "        fill: #1967D2;\n",
              "        height: 32px;\n",
              "        padding: 0 0 0 0;\n",
              "        width: 32px;\n",
              "      }\n",
              "\n",
              "      .colab-df-generate:hover {\n",
              "        background-color: #E2EBFA;\n",
              "        box-shadow: 0px 1px 2px rgba(60, 64, 67, 0.3), 0px 1px 3px 1px rgba(60, 64, 67, 0.15);\n",
              "        fill: #174EA6;\n",
              "      }\n",
              "\n",
              "      [theme=dark] .colab-df-generate {\n",
              "        background-color: #3B4455;\n",
              "        fill: #D2E3FC;\n",
              "      }\n",
              "\n",
              "      [theme=dark] .colab-df-generate:hover {\n",
              "        background-color: #434B5C;\n",
              "        box-shadow: 0px 1px 3px 1px rgba(0, 0, 0, 0.15);\n",
              "        filter: drop-shadow(0px 1px 2px rgba(0, 0, 0, 0.3));\n",
              "        fill: #FFFFFF;\n",
              "      }\n",
              "    </style>\n",
              "    <button class=\"colab-df-generate\" onclick=\"generateWithVariable('X_train_scaled')\"\n",
              "            title=\"Generate code using this dataframe.\"\n",
              "            style=\"display:none;\">\n",
              "\n",
              "  <svg xmlns=\"http://www.w3.org/2000/svg\" height=\"24px\"viewBox=\"0 0 24 24\"\n",
              "       width=\"24px\">\n",
              "    <path d=\"M7,19H8.4L18.45,9,17,7.55,7,17.6ZM5,21V16.75L18.45,3.32a2,2,0,0,1,2.83,0l1.4,1.43a1.91,1.91,0,0,1,.58,1.4,1.91,1.91,0,0,1-.58,1.4L9.25,21ZM18.45,9,17,7.55Zm-12,3A5.31,5.31,0,0,0,4.9,8.1,5.31,5.31,0,0,0,1,6.5,5.31,5.31,0,0,0,4.9,4.9,5.31,5.31,0,0,0,6.5,1,5.31,5.31,0,0,0,8.1,4.9,5.31,5.31,0,0,0,12,6.5,5.46,5.46,0,0,0,6.5,12Z\"/>\n",
              "  </svg>\n",
              "    </button>\n",
              "    <script>\n",
              "      (() => {\n",
              "      const buttonEl =\n",
              "        document.querySelector('#id_93bdb5d1-3a6a-4a31-b6d6-8e7e4ccb76b0 button.colab-df-generate');\n",
              "      buttonEl.style.display =\n",
              "        google.colab.kernel.accessAllowed ? 'block' : 'none';\n",
              "\n",
              "      buttonEl.onclick = () => {\n",
              "        google.colab.notebook.generateWithVariable('X_train_scaled');\n",
              "      }\n",
              "      })();\n",
              "    </script>\n",
              "  </div>\n",
              "\n",
              "    </div>\n",
              "  </div>\n"
            ],
            "application/vnd.google.colaboratory.intrinsic+json": {
              "type": "dataframe",
              "variable_name": "X_train_scaled",
              "summary": "{\n  \"name\": \"X_train_scaled\",\n  \"rows\": 142,\n  \"fields\": [\n    {\n      \"column\": \"alcohol\",\n      \"properties\": {\n        \"dtype\": \"number\",\n        \"std\": 1.0035398340781299,\n        \"min\": -2.4277892557880443,\n        \"max\": 2.324051878903925,\n        \"num_unique_values\": 104,\n        \"samples\": [\n          -0.16441229426371115,\n          -0.6270915626416124,\n          0.8359753130398621\n        ],\n        \"semantic_type\": \"\",\n        \"description\": \"\"\n      }\n    },\n    {\n      \"column\": \"malic_acid\",\n      \"properties\": {\n        \"dtype\": \"number\",\n        \"std\": 1.0035398340781299,\n        \"min\": -1.4579912751740116,\n        \"max\": 3.152906132563799,\n        \"num_unique_values\": 107,\n        \"samples\": [\n          -0.8930196560440821,\n          -0.5649716191299297,\n          0.8201200922853813\n        ],\n        \"semantic_type\": \"\",\n        \"description\": \"\"\n      }\n    },\n    {\n      \"column\": \"ash\",\n      \"properties\": {\n        \"dtype\": \"number\",\n        \"std\": 1.0035398340781299,\n        \"min\": -3.757414863015115,\n        \"max\": 3.1975813779236515,\n        \"num_unique_values\": 70,\n        \"samples\": [\n          -0.392094101270552,\n          1.7766681674092786,\n          -0.50427145999537\n        ],\n        \"semantic_type\": \"\",\n        \"description\": \"\"\n      }\n    },\n    {\n      \"column\": \"alcalinity_of_ash\",\n      \"properties\": {\n        \"dtype\": \"number\",\n        \"std\": 1.0035398340781299,\n        \"min\": -2.6790025752231252,\n        \"max\": 3.079515132505235,\n        \"num_unique_values\": 56,\n        \"samples\": [\n          -1.224531607807199,\n          -0.03720836910032068,\n          -1.0167500410334955\n        ],\n        \"semantic_type\": \"\",\n        \"description\": \"\"\n      }\n    },\n    {\n      \"column\": \"magnesium\",\n      \"properties\": {\n        \"dtype\": \"number\",\n        \"std\": 1.0035398340781299,\n        \"min\": -1.9908823170733885,\n        \"max\": 4.189936739544184,\n        \"num_unique_values\": 49,\n        \"samples\": [\n          0.427699052907401,\n          -1.184688527079792,\n          0.3605162370746013\n        ],\n        \"semantic_type\": \"\",\n        \"description\": \"\"\n      }\n    },\n    {\n      \"column\": \"total_phenols\",\n      \"properties\": {\n        \"dtype\": \"number\",\n        \"std\": 1.0035398340781296,\n        \"min\": -2.089152079350033,\n        \"max\": 2.593841912682755,\n        \"num_unique_values\": 82,\n        \"samples\": [\n          0.44612397840564855,\n          0.5268652541303522,\n          -1.4432218735524074\n        ],\n        \"semantic_type\": \"\",\n        \"description\": \"\"\n      }\n    },\n    {\n      \"column\": \"flavanoids\",\n      \"properties\": {\n        \"dtype\": \"number\",\n        \"std\": 1.00353983407813,\n        \"min\": -1.7345167415631515,\n        \"max\": 1.8497354533807355,\n        \"num_unique_values\": 110,\n        \"samples\": [\n          -1.217962748762415,\n          -0.4167769640102519,\n          -1.2917561763053773\n        ],\n        \"semantic_type\": \"\",\n        \"description\": \"\"\n      }\n    },\n    {\n      \"column\": \"nonflavanoid_phenols\",\n      \"properties\": {\n        \"dtype\": \"number\",\n        \"std\": 1.00353983407813,\n        \"min\": -1.9373629711180187,\n        \"max\": 2.271718147284039,\n        \"num_unique_values\": 36,\n        \"samples\": [\n          -0.08536727902111335,\n          0.3355408328190928,\n          -0.33791214612523657\n        ],\n        \"semantic_type\": \"\",\n        \"description\": \"\"\n      }\n    },\n    {\n      \"column\": \"proanthocyanins\",\n      \"properties\": {\n        \"dtype\": \"number\",\n        \"std\": 1.0035398340781299,\n        \"min\": -2.042836319535014,\n        \"max\": 3.426830804408845,\n        \"num_unique_values\": 87,\n        \"samples\": [\n          -1.0908372947979499,\n          -0.415783440893486,\n          0.6054518765517279\n        ],\n        \"semantic_type\": \"\",\n        \"description\": \"\"\n      }\n    },\n    {\n      \"column\": \"color_intensity\",\n      \"properties\": {\n        \"dtype\": \"number\",\n        \"std\": 1.0035398340781296,\n        \"min\": -1.5943742220574137,\n        \"max\": 3.4427792991263755,\n        \"num_unique_values\": 112,\n        \"samples\": [\n          -0.1330839514068266,\n          -0.30500045383630725,\n          1.4743353463088196\n        ],\n        \"semantic_type\": \"\",\n        \"description\": \"\"\n      }\n    },\n    {\n      \"column\": \"hue\",\n      \"properties\": {\n        \"dtype\": \"number\",\n        \"std\": 1.0035398340781296,\n        \"min\": -2.076562612513539,\n        \"max\": 3.3695967048871234,\n        \"num_unique_values\": 69,\n        \"samples\": [\n          0.04876785281354883,\n          0.624378187172969,\n          -2.076562612513539\n        ],\n        \"semantic_type\": \"\",\n        \"description\": \"\"\n      }\n    },\n    {\n      \"column\": \"od280/od315_of_diluted_wines\",\n      \"properties\": {\n        \"dtype\": \"number\",\n        \"std\": 1.0035398340781299,\n        \"min\": -1.9443598596402587,\n        \"max\": 1.9117728228865134,\n        \"num_unique_values\": 104,\n        \"samples\": [\n          0.3111139735357776,\n          -0.19818656943945595,\n          0.5148341907258714\n        ],\n        \"semantic_type\": \"\",\n        \"description\": \"\"\n      }\n    },\n    {\n      \"column\": \"proline\",\n      \"properties\": {\n        \"dtype\": \"number\",\n        \"std\": 1.0035398340781299,\n        \"min\": -1.536032988602436,\n        \"max\": 2.581323009871122,\n        \"num_unique_values\": 100,\n        \"samples\": [\n          -0.33111555008390076,\n          1.6493426706855148,\n          -0.3644005621976725\n        ],\n        \"semantic_type\": \"\",\n        \"description\": \"\"\n      }\n    }\n  ]\n}"
            }
          },
          "metadata": {},
          "execution_count": 28
        }
      ],
      "id": "myP1nNHEAqTX"
    },
    {
      "cell_type": "code",
      "source": [
        "np.unique(y_train, return_counts=True)"
      ],
      "metadata": {
        "colab": {
          "base_uri": "https://localhost:8080/"
        },
        "id": "qoTx9dMzAv6b",
        "outputId": "9722120d-0ab4-4506-a025-f42ee1ede568"
      },
      "execution_count": null,
      "outputs": [
        {
          "output_type": "execute_result",
          "data": {
            "text/plain": [
              "(array([0, 1, 2]), array([47, 57, 38]))"
            ]
          },
          "metadata": {},
          "execution_count": 29
        }
      ],
      "id": "qoTx9dMzAv6b"
    },
    {
      "cell_type": "code",
      "source": [
        "layer0 = tf.keras.layers.Dense(\n",
        "    units=10,  # neurons in first hidden layer\n",
        "    input_shape=[X_train_scaled.shape[1]],  # input shape\n",
        "    activation=\"relu\"\n",
        ")\n",
        "\n",
        "layer1 = tf.keras.layers.Dense(\n",
        "    units=10,  # neurons in second hidden layer\n",
        "    activation=\"relu\"\n",
        ")\n",
        "\n",
        "layer2 = tf.keras.layers.Dense(\n",
        "    units=1,  # output shape\n",
        "    activation='sigmoid'\n",
        ")\n",
        "\n",
        "# sequential API to connect layers one by one\n",
        "model = tf.keras.Sequential([layer0, layer1, layer2])\n",
        "\n",
        "# compilation to define loss function and optimizer\n",
        "model.compile(\n",
        "    loss='binary_crossentropy',\n",
        "    optimizer=tf.keras.optimizers.Adam(0.1),\n",
        "    metrics=['accuracy']\n",
        ")\n",
        "\n",
        "history = model.fit(\n",
        "    X_train_scaled,  # training set, features\n",
        "    y_train,  # training set, target variable\n",
        "    validation_data=(X_test_scaled, y_test),  # validation data\n",
        "    epochs=25,\n",
        "    verbose=False,\n",
        ")"
      ],
      "metadata": {
        "id": "qUHMDLbAyvtg"
      },
      "id": "qUHMDLbAyvtg",
      "execution_count": null,
      "outputs": []
    },
    {
      "cell_type": "code",
      "source": [
        "plt.plot(history.history['loss'], label='train')\n",
        "plt.plot(history.history['val_loss'], label='test')\n",
        "\n",
        "plt.xlabel('Epoch Number')\n",
        "plt.ylabel(\"Loss Magnitude\")\n",
        "plt.legend()\n",
        "plt.show()"
      ],
      "metadata": {
        "colab": {
          "base_uri": "https://localhost:8080/",
          "height": 449
        },
        "id": "W-MD9XN2zoQj",
        "outputId": "07bc9c69-2345-44ae-b7b7-8bfe148461ba"
      },
      "id": "W-MD9XN2zoQj",
      "execution_count": null,
      "outputs": [
        {
          "output_type": "display_data",
          "data": {
            "text/plain": [
              "<Figure size 640x480 with 1 Axes>"
            ],
            "image/png": "[encoded data removed]"
          },
          "metadata": {}
        }
      ]
    },
    {
      "cell_type": "code",
      "source": [
        "history.history.keys()"
      ],
      "metadata": {
        "colab": {
          "base_uri": "https://localhost:8080/"
        },
        "id": "lZyWmNtZzu8K",
        "outputId": "29d347eb-612d-47c6-8adf-091d001c1e04"
      },
      "id": "lZyWmNtZzu8K",
      "execution_count": null,
      "outputs": [
        {
          "output_type": "execute_result",
          "data": {
            "text/plain": [
              "dict_keys(['loss', 'accuracy', 'val_loss', 'val_accuracy'])"
            ]
          },
          "metadata": {},
          "execution_count": 32
        }
      ]
    },
    {
      "cell_type": "code",
      "source": [
        "plt.plot(history.history['accuracy'], label='train')\n",
        "plt.plot(history.history['val_accuracy'], label='test')\n",
        "\n",
        "plt.xlabel('Epoch Number')\n",
        "plt.ylabel(\"Accuracy\")\n",
        "plt.legend()\n",
        "plt.show()"
      ],
      "metadata": {
        "colab": {
          "base_uri": "https://localhost:8080/",
          "height": 449
        },
        "id": "eMzKcCsszsjp",
        "outputId": "f0bf4c50-43ac-4a7b-e754-206a8ee06b85"
      },
      "id": "eMzKcCsszsjp",
      "execution_count": null,
      "outputs": [
        {
          "output_type": "display_data",
          "data": {
            "text/plain": [
              "<Figure size 640x480 with 1 Axes>"
            ],
            "image/png": "[encoded data removed]"
          },
          "metadata": {}
        }
      ]
    },
    {
      "cell_type": "markdown",
      "source": [
        "<img src=\"https://drive.google.com/uc?export=view&id=141XOz6N4nk8Ru1sAl7vOsAToCLrSFCAX\" alt=\"SDA logo\" width=\"150\" align='right'/>\n",
        "<br>\n",
        "\n",
        "## Network hyper-parameters\n",
        "\n",
        "Hyperparameters in a neural network are **<font color='#4472c4'>configuration settings</font>** that determine the behavior of the model. The selection of appropriate hyperparameters is crucial for achieving optimal performance and generalization. It often requires experimentation and tuning to find the best combination for a specific task and dataset.\n",
        "\n",
        "Here are some commonly used hyperparameters:\n",
        "* number of hidden layers\n",
        "* number of neurons in each (hidden) layer\n",
        "* activation functions\n",
        "* learning rate\n",
        "* batch size\n",
        "* *regularization strength (L1 & L2)* (in future blocks)\n",
        "* optimizer\n"
      ],
      "metadata": {
        "id": "KE9SI4W7Guwj"
      },
      "id": "KE9SI4W7Guwj"
    },
    {
      "cell_type": "code",
      "source": [],
      "metadata": {
        "id": "yVn0d0Of0Nmo"
      },
      "id": "yVn0d0Of0Nmo",
      "execution_count": null,
      "outputs": []
    },
    {
      "cell_type": "markdown",
      "source": [
        "<img src=\"https://drive.google.com/uc?export=view&id=1UO2urRciECzoKE_vHy4RMGfFbkOWOGlW\" alt=\"SDA logo\" align=\"left\" width=\"100px\" hspace=\"10px\" vspace=\"10px\"/>\n",
        "<br>\n",
        "\n",
        "# TASKS"
      ],
      "metadata": {
        "id": "Wi1N89rTUdpp"
      },
      "id": "Wi1N89rTUdpp"
    },
    {
      "cell_type": "markdown",
      "source": [
        "## **<font color='#306998'>TASK </font><font color='#ffd33b'>1</font>**\n",
        "\n",
        "For wine and housing datasets, create MLPs and try different optimizers like `SGD`, `RMSprop` or `Adam`. Try various values of `learning_rate` parameter. How does it affect the model?"
      ],
      "metadata": {
        "id": "h_BbcHzqo1Sq"
      },
      "id": "h_BbcHzqo1Sq"
    },
    {
      "cell_type": "code",
      "source": [
        "X_train_scaled, X_test_scaled, y_train, y_test = get_housing_data()\n",
        "\n",
        "model = tf.keras.Sequential([\n",
        "    tf.keras.layers.Dense(units=10, activation='relu'),\n",
        "    tf.keras.layers.Dense(units=10, activation='relu'),\n",
        "    tf.keras.layers.Dense(units=1)\n",
        "])\n",
        "\n",
        "def test_optimizer(model:tf.keras.Model, optimizer):\n",
        "  model.compile(optimizer=optimizer, loss='mean_squared_error')\n",
        "  model.fit(X_train_scaled, y_train, epochs=20)\n",
        "  metrics = model.evaluate(X_test_scaled, y_test)\n",
        "  return metrics\n",
        "\n",
        "metrics = {}\n",
        "metrics[(\"SGD\", 0.01)] = test_optimizer(model, tf.keras.optimizers.SGD(learning_rate=0.01))\n",
        "\n",
        "# Test RMSprop optimizer with learning rate 0.001\n",
        "metrics[(\"RMSprop\", 0.001)] = test_optimizer(model, tf.keras.optimizers.RMSprop(learning_rate=0.001))\n",
        "\n",
        "# Test Adam optimizer with learning rate 0.001\n",
        "metrics[(\"Adam\", 0.001)] = test_optimizer(model, tf.keras.optimizers.Adam(learning_rate=0.001))"
      ],
      "metadata": {
        "id": "CPSXa-OfCWfQ",
        "colab": {
          "base_uri": "https://localhost:8080/"
        },
        "outputId": "dc156f7b-fe33-422d-c455-dca3cf520965"
      },
      "id": "CPSXa-OfCWfQ",
      "execution_count": null,
      "outputs": [
        {
          "output_type": "stream",
          "name": "stdout",
          "text": [
            "Epoch 1/20\n",
            "516/516 [==============================] - 1s 2ms/step - loss: 0.8113\n",
            "Epoch 2/20\n",
            "516/516 [==============================] - 1s 2ms/step - loss: 0.5178\n",
            "Epoch 3/20\n",
            "516/516 [==============================] - 1s 2ms/step - loss: 0.4832\n",
            "Epoch 4/20\n",
            "516/516 [==============================] - 1s 2ms/step - loss: 0.4625\n",
            "Epoch 5/20\n",
            "516/516 [==============================] - 1s 2ms/step - loss: 0.4472\n",
            "Epoch 6/20\n",
            "516/516 [==============================] - 1s 2ms/step - loss: 0.4340\n",
            "Epoch 7/20\n",
            "516/516 [==============================] - 1s 2ms/step - loss: 0.4217\n",
            "Epoch 8/20\n",
            "516/516 [==============================] - 3s 5ms/step - loss: 0.4115\n",
            "Epoch 9/20\n",
            "516/516 [==============================] - 2s 5ms/step - loss: 0.4020\n",
            "Epoch 10/20\n",
            "516/516 [==============================] - 1s 2ms/step - loss: 0.3946\n",
            "Epoch 11/20\n",
            "516/516 [==============================] - 1s 2ms/step - loss: 0.3885\n",
            "Epoch 12/20\n",
            "516/516 [==============================] - 1s 2ms/step - loss: 0.3979\n",
            "Epoch 13/20\n",
            "516/516 [==============================] - 1s 2ms/step - loss: 0.3772\n",
            "Epoch 14/20\n",
            "516/516 [==============================] - 1s 2ms/step - loss: 0.3714\n",
            "Epoch 15/20\n",
            "516/516 [==============================] - 1s 2ms/step - loss: 0.3674\n",
            "Epoch 16/20\n",
            "516/516 [==============================] - 1s 2ms/step - loss: 0.3657\n",
            "Epoch 17/20\n",
            "516/516 [==============================] - 1s 2ms/step - loss: 0.3593\n",
            "Epoch 18/20\n",
            "516/516 [==============================] - 1s 2ms/step - loss: 0.3551\n",
            "Epoch 19/20\n",
            "516/516 [==============================] - 1s 2ms/step - loss: 0.3610\n",
            "Epoch 20/20\n",
            "516/516 [==============================] - 1s 2ms/step - loss: 0.3515\n",
            "129/129 [==============================] - 0s 1ms/step - loss: 0.3556\n",
            "Epoch 1/20\n",
            "516/516 [==============================] - 2s 2ms/step - loss: 0.3424\n",
            "Epoch 2/20\n",
            "516/516 [==============================] - 1s 3ms/step - loss: 0.3402\n",
            "Epoch 3/20\n",
            "516/516 [==============================] - 1s 2ms/step - loss: 0.3377\n",
            "Epoch 4/20\n",
            "516/516 [==============================] - 1s 2ms/step - loss: 0.3355\n",
            "Epoch 5/20\n",
            "516/516 [==============================] - 1s 2ms/step - loss: 0.3333\n",
            "Epoch 6/20\n",
            "516/516 [==============================] - 1s 2ms/step - loss: 0.3318\n",
            "Epoch 7/20\n",
            "516/516 [==============================] - 1s 2ms/step - loss: 0.3301\n",
            "Epoch 8/20\n",
            "516/516 [==============================] - 1s 2ms/step - loss: 0.3282\n",
            "Epoch 9/20\n",
            "516/516 [==============================] - 1s 2ms/step - loss: 0.3264\n",
            "Epoch 10/20\n",
            "516/516 [==============================] - 1s 2ms/step - loss: 0.3256\n",
            "Epoch 11/20\n",
            "516/516 [==============================] - 1s 2ms/step - loss: 0.3239\n",
            "Epoch 12/20\n",
            "516/516 [==============================] - 1s 2ms/step - loss: 0.3236\n",
            "Epoch 13/20\n",
            "516/516 [==============================] - 1s 2ms/step - loss: 0.3223\n",
            "Epoch 14/20\n",
            "516/516 [==============================] - 1s 2ms/step - loss: 0.3208\n",
            "Epoch 15/20\n",
            "516/516 [==============================] - 1s 2ms/step - loss: 0.3199\n",
            "Epoch 16/20\n",
            "516/516 [==============================] - 1s 2ms/step - loss: 0.3200\n",
            "Epoch 17/20\n",
            "516/516 [==============================] - 1s 3ms/step - loss: 0.3190\n",
            "Epoch 18/20\n",
            "516/516 [==============================] - 1s 2ms/step - loss: 0.3176\n",
            "Epoch 19/20\n",
            "516/516 [==============================] - 1s 2ms/step - loss: 0.3163\n",
            "Epoch 20/20\n",
            "516/516 [==============================] - 1s 2ms/step - loss: 0.3172\n",
            "129/129 [==============================] - 0s 1ms/step - loss: 0.3291\n",
            "Epoch 1/20\n",
            "516/516 [==============================] - 1s 2ms/step - loss: 0.3158\n",
            "Epoch 2/20\n",
            "516/516 [==============================] - 1s 2ms/step - loss: 0.3151\n",
            "Epoch 3/20\n",
            "516/516 [==============================] - 1s 2ms/step - loss: 0.3138\n",
            "Epoch 4/20\n",
            "516/516 [==============================] - 1s 2ms/step - loss: 0.3148\n",
            "Epoch 5/20\n",
            "516/516 [==============================] - 1s 2ms/step - loss: 0.3117\n",
            "Epoch 6/20\n",
            "516/516 [==============================] - 1s 2ms/step - loss: 0.3159\n",
            "Epoch 7/20\n",
            "516/516 [==============================] - 1s 2ms/step - loss: 0.3108\n",
            "Epoch 8/20\n",
            "516/516 [==============================] - 1s 2ms/step - loss: 0.3113\n",
            "Epoch 9/20\n",
            "516/516 [==============================] - 1s 3ms/step - loss: 0.3107\n",
            "Epoch 10/20\n",
            "516/516 [==============================] - 1s 3ms/step - loss: 0.3111\n",
            "Epoch 11/20\n",
            "516/516 [==============================] - 1s 2ms/step - loss: 0.3103\n",
            "Epoch 12/20\n",
            "516/516 [==============================] - 1s 2ms/step - loss: 0.3131\n",
            "Epoch 13/20\n",
            "516/516 [==============================] - 1s 2ms/step - loss: 0.3075\n",
            "Epoch 14/20\n",
            "516/516 [==============================] - 1s 2ms/step - loss: 0.3080\n",
            "Epoch 15/20\n",
            "516/516 [==============================] - 1s 2ms/step - loss: 0.3082\n",
            "Epoch 16/20\n",
            "516/516 [==============================] - 1s 2ms/step - loss: 0.3079\n",
            "Epoch 17/20\n",
            "516/516 [==============================] - 1s 2ms/step - loss: 0.3094\n",
            "Epoch 18/20\n",
            "516/516 [==============================] - 1s 2ms/step - loss: 0.3074\n",
            "Epoch 19/20\n",
            "516/516 [==============================] - 1s 2ms/step - loss: 0.3076\n",
            "Epoch 20/20\n",
            "516/516 [==============================] - 1s 2ms/step - loss: 0.3049\n",
            "129/129 [==============================] - 0s 2ms/step - loss: 0.3201\n"
          ]
        }
      ]
    },
    {
      "cell_type": "markdown",
      "source": [
        "## **<font color='#306998'>TASK </font><font color='#ffd33b'>2</font>**\n",
        "\n",
        "Investigate how varying the `batch_size` during the training of a neural network affects both the training time and the model's performance. Understanding the influence of batch size is crucial for optimizing neural network training processes, as it can significantly impact learning dynamics, memory usage, and computational efficiency.\n",
        "\n",
        "By measuring and comparing the training time and model performance across various batch sizes, you will gain insights into the trade-offs involved in choosing an appropriate batch size for neural network training."
      ],
      "metadata": {
        "id": "YQF-iUYYSdPm"
      },
      "id": "YQF-iUYYSdPm"
    },
    {
      "cell_type": "code",
      "source": [],
      "metadata": {
        "id": "TnjlE0MUTFhy"
      },
      "id": "TnjlE0MUTFhy",
      "execution_count": null,
      "outputs": []
    },
    {
      "cell_type": "markdown",
      "source": [
        "## **<font color='#306998'>TASK </font><font color='#ffd33b'>3</font>**\n",
        "\n",
        "A classic example of a classification dataset is the **<font color='darkorange'>Iris dataset</font>**.\n",
        "\n",
        "Build a classifier (based on data loaded into the `iris_data` variable) based on multilayer perceptron implementation available in the scikit-learn library. Work on tuning the parameters to get the best result. Compare its performance with a previously known classification models.\n",
        "\n",
        "*Hint: The challenge here, is to encode the flower `class` as a numerical value, so that it can be used in the learning process. You can use LabelEncoder, OrdinalEncoder or OneHotEncoder*"
      ],
      "metadata": {
        "id": "ndZ6_lpdVIli"
      },
      "id": "ndZ6_lpdVIli"
    },
    {
      "cell_type": "code",
      "source": [
        "import numpy as np\n",
        "import pandas as pd\n",
        "from sklearn.datasets import load_iris\n",
        "from sklearn.model_selection import train_test_split, GridSearchCV\n",
        "from sklearn.preprocessing import LabelEncoder\n",
        "from sklearn.neural_network import MLPClassifier\n",
        "from sklearn.metrics import classification_report, accuracy_score\n",
        "from sklearn.linear_model import LogisticRegression\n",
        "from sklearn.tree import DecisionTreeClassifier\n",
        "from sklearn.ensemble import RandomForestClassifier\n",
        "\n",
        "\n",
        "\n",
        "url = \"https://archive.ics.uci.edu/ml/machine-learning-databases/iris/iris.data\"\n",
        "columns = [\n",
        "    \"sepal length (cm)\",\n",
        "    \"sepal width (cm)\",\n",
        "    \"petal length (cm)\",\n",
        "    \"petal width (cm)\",\n",
        "    \"class\"\n",
        "]\n",
        "\n",
        "iris_data = pd.read_csv(url, names=columns)\n",
        "\n",
        "iris = load_iris()\n",
        "iris_data = pd.DataFrame(data=iris.data, columns=iris.feature_names)\n",
        "iris_data['target'] = iris.target\n",
        "\n",
        "# Encode the target variable\n",
        "label_encoder = LabelEncoder()\n",
        "iris_data['target'] = label_encoder.fit_transform(iris_data['target'])\n",
        "\n",
        "# Split the data into training and testing sets\n",
        "X = iris_data.drop(columns=['target'])\n",
        "y = iris_data['target']\n",
        "X_train, X_test, y_train, y_test = train_test_split(X, y, test_size=0.2, random_state=42)\n",
        "\n",
        "# Initialize and train the MLP classifier\n",
        "mlp = MLPClassifier(max_iter=1000, random_state=42)\n",
        "mlp.fit(X_train, y_train)\n",
        "\n",
        "# Tune hyperparameters using GridSearchCV\n",
        "param_grid = {\n",
        "    'hidden_layer_sizes': [(50,), (100,), (50, 50)],\n",
        "    'activation': ['tanh', 'relu'],\n",
        "    'solver': ['sgd', 'adam'],\n",
        "    'alpha': [0.0001, 0.05],\n",
        "    'learning_rate': ['constant', 'adaptive'],\n",
        "}\n",
        "\n",
        "grid_search = GridSearchCV(mlp, param_grid, n_jobs=-1, cv=5)\n",
        "grid_search.fit(X_train, y_train)\n",
        "\n",
        "# Best parameters and model\n",
        "best_params = grid_search.best_params_\n",
        "best_mlp = grid_search.best_estimator_\n",
        "\n",
        "# Evaluate the MLP classifier\n",
        "y_pred_mlp = best_mlp.predict(X_test)\n",
        "print(\"MLP Classifier Performance:\")\n",
        "print(classification_report(y_test, y_pred_mlp))\n",
        "print(\"Accuracy:\", accuracy_score(y_test, y_pred_mlp))\n",
        "\n",
        "# Compare with other classifiers\n",
        "classifiers = {\n",
        "    'Logistic Regression': LogisticRegression(max_iter=1000, random_state=42),\n",
        "    'Decision Tree': DecisionTreeClassifier(random_state=42),\n",
        "    'Random Forest': RandomForestClassifier(random_state=42)\n",
        "}\n",
        "\n",
        "for name, clf in classifiers.items():\n",
        "    clf.fit(X_train, y_train)\n",
        "    y_pred = clf.predict(X_test)\n",
        "    print(f\"\\n{name} Performance:\")\n",
        "    print(classification_report(y_test, y_pred))\n",
        "    print(\"Accuracy:\", accuracy_score(y_test, y_pred))"
      ],
      "metadata": {
        "id": "u2F5hgonWUKc",
        "colab": {
          "base_uri": "https://localhost:8080/"
        },
        "outputId": "5a161878-e102-4a51-fd5b-be888b93996d"
      },
      "id": "u2F5hgonWUKc",
      "execution_count": 3,
      "outputs": [
        {
          "output_type": "stream",
          "name": "stderr",
          "text": [
            "/usr/local/lib/python3.10/dist-packages/sklearn/neural_network/_multilayer_perceptron.py:686: ConvergenceWarning: Stochastic Optimizer: Maximum iterations (1000) reached and the optimization hasn't converged yet.\n",
            "  warnings.warn(\n"
          ]
        },
        {
          "output_type": "stream",
          "name": "stdout",
          "text": [
            "MLP Classifier Performance:\n",
            "              precision    recall  f1-score   support\n",
            "\n",
            "           0       1.00      1.00      1.00        10\n",
            "           1       1.00      1.00      1.00         9\n",
            "           2       1.00      1.00      1.00        11\n",
            "\n",
            "    accuracy                           1.00        30\n",
            "   macro avg       1.00      1.00      1.00        30\n",
            "weighted avg       1.00      1.00      1.00        30\n",
            "\n",
            "Accuracy: 1.0\n",
            "\n",
            "Logistic Regression Performance:\n",
            "              precision    recall  f1-score   support\n",
            "\n",
            "           0       1.00      1.00      1.00        10\n",
            "           1       1.00      1.00      1.00         9\n",
            "           2       1.00      1.00      1.00        11\n",
            "\n",
            "    accuracy                           1.00        30\n",
            "   macro avg       1.00      1.00      1.00        30\n",
            "weighted avg       1.00      1.00      1.00        30\n",
            "\n",
            "Accuracy: 1.0\n",
            "\n",
            "Decision Tree Performance:\n",
            "              precision    recall  f1-score   support\n",
            "\n",
            "           0       1.00      1.00      1.00        10\n",
            "           1       1.00      1.00      1.00         9\n",
            "           2       1.00      1.00      1.00        11\n",
            "\n",
            "    accuracy                           1.00        30\n",
            "   macro avg       1.00      1.00      1.00        30\n",
            "weighted avg       1.00      1.00      1.00        30\n",
            "\n",
            "Accuracy: 1.0\n",
            "\n",
            "Random Forest Performance:\n",
            "              precision    recall  f1-score   support\n",
            "\n",
            "           0       1.00      1.00      1.00        10\n",
            "           1       1.00      1.00      1.00         9\n",
            "           2       1.00      1.00      1.00        11\n",
            "\n",
            "    accuracy                           1.00        30\n",
            "   macro avg       1.00      1.00      1.00        30\n",
            "weighted avg       1.00      1.00      1.00        30\n",
            "\n",
            "Accuracy: 1.0\n"
          ]
        }
      ]
    },
    {
      "cell_type": "code",
      "source": [],
      "metadata": {
        "id": "Z7W2rZ6KWdJt"
      },
      "id": "Z7W2rZ6KWdJt",
      "execution_count": null,
      "outputs": []
    },
    {
      "cell_type": "markdown",
      "source": [
        "## **<font color='#306998'>TASK </font><font color='#ffd33b'>4</font>**\n",
        "\n",
        "See how the lack of feature standardization affects the model and its effectiveness for both datasets: wine and housing."
      ],
      "metadata": {
        "id": "FX90aKHVX2Gm"
      },
      "id": "FX90aKHVX2Gm"
    },
    {
      "cell_type": "code",
      "source": [
        "from sklearn.datasets import load_wine, fetch_california_housing\n",
        "from sklearn.model_selection import train_test_split\n",
        "from sklearn.preprocessing import StandardScaler\n",
        "from sklearn.neural_network import MLPClassifier, MLPRegressor\n",
        "from sklearn.metrics import classification_report, mean_squared_error, accuracy_score\n",
        "\n",
        "wine = load_wine()\n",
        "X_wine, y_wine = wine.data, wine.target\n",
        "\n",
        "housing = fetch_california_housing()\n",
        "X_housing, y_housing = housing.data, housing.target\n",
        "\n",
        "X_wine_train, X_wine_test, y_wine_train, y_wine_test = train_test_split(X_wine, y_wine, test_size=0.2, random_state=42)\n",
        "X_housing_train, X_housing_test, y_housing_train, y_housing_test = train_test_split(X_housing, y_housing, test_size=0.2, random_state=42)\n",
        "\n",
        "# Train MLP Classifier on Wine dataset without standardization\n",
        "mlp_wine_no_std = MLPClassifier(max_iter=1000, random_state=42)\n",
        "mlp_wine_no_std.fit(X_wine_train, y_wine_train)\n",
        "y_wine_pred_no_std = mlp_wine_no_std.predict(X_wine_test)\n",
        "\n",
        "# Train MLP Regressor on Housing dataset without standardization\n",
        "mlp_housing_no_std = MLPRegressor(max_iter=1000, random_state=42)\n",
        "mlp_housing_no_std.fit(X_housing_train, y_housing_train)\n",
        "y_housing_pred_no_std = mlp_housing_no_std.predict(X_housing_test)\n",
        "\n",
        "# Standardize the Wine dataset\n",
        "scaler_wine = StandardScaler()\n",
        "X_wine_train_std = scaler_wine.fit_transform(X_wine_train)\n",
        "X_wine_test_std = scaler_wine.transform(X_wine_test)\n",
        "\n",
        "# Train MLP Classifier on standardized Wine dataset\n",
        "mlp_wine_std = MLPClassifier(max_iter=1000, random_state=42)\n",
        "mlp_wine_std.fit(X_wine_train_std, y_wine_train)\n",
        "y_wine_pred_std = mlp_wine_std.predict(X_wine_test_std)\n",
        "\n",
        "# Standardize the Housing dataset\n",
        "scaler_housing = StandardScaler()\n",
        "X_housing_train_std = scaler_housing.fit_transform(X_housing_train)\n",
        "X_housing_test_std = scaler_housing.transform(X_housing_test)\n",
        "\n",
        "# Train MLP Regressor on standardized Housing dataset\n",
        "mlp_housing_std = MLPRegressor(max_iter=1000, random_state=42)\n",
        "mlp_housing_std.fit(X_housing_train_std, y_housing_train)\n",
        "y_housing_pred_std = mlp_housing_std.predict(X_housing_test_std)\n",
        "\n",
        "# Compare performance for Wine dataset\n",
        "print(\"Wine Dataset - Without Standardization\")\n",
        "print(classification_report(y_wine_test, y_wine_pred_no_std))\n",
        "print(\"Accuracy:\", accuracy_score(y_wine_test, y_wine_pred_no_std))\n",
        "\n",
        "print(\"\\nWine Dataset - With Standardization\")\n",
        "print(classification_report(y_wine_test, y_wine_pred_std))\n",
        "print(\"Accuracy:\", accuracy_score(y_wine_test, y_wine_pred_std))\n",
        "\n",
        "# Compare performance for Housing dataset\n",
        "print(\"\\nHousing Dataset - Without Standardization\")\n",
        "print(\"Mean Squared Error:\", mean_squared_error(y_housing_test, y_housing_pred_no_std))\n",
        "\n",
        "print(\"\\nHousing Dataset - With Standardization\")\n",
        "print(\"Mean Squared Error:\", mean_squared_error(y_housing_test, y_housing_pred_std))"
      ],
      "metadata": {
        "id": "z2hMctoCYE9b",
        "colab": {
          "base_uri": "https://localhost:8080/"
        },
        "outputId": "c2471aa3-937c-4bb5-9a82-950d24fb5f30"
      },
      "id": "z2hMctoCYE9b",
      "execution_count": 8,
      "outputs": [
        {
          "output_type": "stream",
          "name": "stderr",
          "text": [
            "/usr/local/lib/python3.10/dist-packages/sklearn/neural_network/_multilayer_perceptron.py:686: ConvergenceWarning: Stochastic Optimizer: Maximum iterations (1000) reached and the optimization hasn't converged yet.\n",
            "  warnings.warn(\n"
          ]
        },
        {
          "output_type": "stream",
          "name": "stdout",
          "text": [
            "Wine Dataset - Without Standardization\n",
            "              precision    recall  f1-score   support\n",
            "\n",
            "           0       1.00      0.93      0.96        14\n",
            "           1       0.93      1.00      0.97        14\n",
            "           2       1.00      1.00      1.00         8\n",
            "\n",
            "    accuracy                           0.97        36\n",
            "   macro avg       0.98      0.98      0.98        36\n",
            "weighted avg       0.97      0.97      0.97        36\n",
            "\n",
            "Accuracy: 0.9722222222222222\n",
            "\n",
            "Wine Dataset - With Standardization\n",
            "              precision    recall  f1-score   support\n",
            "\n",
            "           0       1.00      1.00      1.00        14\n",
            "           1       1.00      1.00      1.00        14\n",
            "           2       1.00      1.00      1.00         8\n",
            "\n",
            "    accuracy                           1.00        36\n",
            "   macro avg       1.00      1.00      1.00        36\n",
            "weighted avg       1.00      1.00      1.00        36\n",
            "\n",
            "Accuracy: 1.0\n",
            "\n",
            "Housing Dataset - Without Standardization\n",
            "Mean Squared Error: 0.7128829809083705\n",
            "\n",
            "Housing Dataset - With Standardization\n",
            "Mean Squared Error: 0.2924088564371274\n"
          ]
        }
      ]
    }
  ],
  "metadata": {
    "colab": {
      "provenance": [],
      "include_colab_link": true
    },
    "gpuClass": "standard",
    "kernelspec": {
      "display_name": "Python 3",
      "name": "python3"
    },
    "language_info": {
      "name": "python"
    }
  },
  "nbformat": 4,
  "nbformat_minor": 5
}